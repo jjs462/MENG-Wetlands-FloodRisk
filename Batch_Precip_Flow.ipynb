{
 "cells": [
  {
   "cell_type": "markdown",
   "metadata": {},
   "source": [
    "2/18/25 \n",
    "\n",
    "Batch Processing of flow and rain data to get ratio of flow to rain in mm/day\n",
    "\n",
    "Use StreamStats to batch download daily mean flow with code '00060' "
   ]
  },
  {
   "cell_type": "code",
   "execution_count": 1,
   "metadata": {},
   "outputs": [],
   "source": [
    "import pandas as pd\n",
    "import numpy as np\n",
    "from simpledbf import Dbf5\n",
    "from sklearn.linear_model import LinearRegression\n",
    "import statsmodels.api as sm\n",
    "import matplotlib.pyplot as plt\n",
    "import requests\n",
    "from scipy import stats\n",
    "#from dataretrieval import codes, nwis, utils\n",
    "from dataretrieval import nwis"
   ]
  },
  {
   "cell_type": "markdown",
   "metadata": {},
   "source": [
    "GagesII has all of the NYS points, but we are only looking at 149. Read GagesII in and only keep the 149 points that we've been focused on"
   ]
  },
  {
   "cell_type": "code",
   "execution_count": 2,
   "metadata": {},
   "outputs": [
    {
     "name": "stdout",
     "output_type": "stream",
     "text": [
      "STAID          object\n",
      "LAT_GAGE      float64\n",
      "LNG_GAGE      float64\n",
      "DRAIN_SQKM    float64\n",
      "dtype: object\n"
     ]
    },
    {
     "data": {
      "text/html": [
       "<div>\n",
       "<style scoped>\n",
       "    .dataframe tbody tr th:only-of-type {\n",
       "        vertical-align: middle;\n",
       "    }\n",
       "\n",
       "    .dataframe tbody tr th {\n",
       "        vertical-align: top;\n",
       "    }\n",
       "\n",
       "    .dataframe thead th {\n",
       "        text-align: right;\n",
       "    }\n",
       "</style>\n",
       "<table border=\"1\" class=\"dataframe\">\n",
       "  <thead>\n",
       "    <tr style=\"text-align: right;\">\n",
       "      <th></th>\n",
       "      <th>STAID</th>\n",
       "      <th>LAT_GAGE</th>\n",
       "      <th>LNG_GAGE</th>\n",
       "      <th>DRAIN_SQKM</th>\n",
       "    </tr>\n",
       "  </thead>\n",
       "  <tbody>\n",
       "    <tr>\n",
       "      <th>0</th>\n",
       "      <td>01200000</td>\n",
       "      <td>41.658983</td>\n",
       "      <td>-73.528458</td>\n",
       "      <td>532.58490</td>\n",
       "    </tr>\n",
       "    <tr>\n",
       "      <th>1</th>\n",
       "      <td>01300000</td>\n",
       "      <td>40.983709</td>\n",
       "      <td>-73.687351</td>\n",
       "      <td>24.10380</td>\n",
       "    </tr>\n",
       "    <tr>\n",
       "      <th>2</th>\n",
       "      <td>01300500</td>\n",
       "      <td>40.955932</td>\n",
       "      <td>-73.718186</td>\n",
       "      <td>11.72430</td>\n",
       "    </tr>\n",
       "    <tr>\n",
       "      <th>3</th>\n",
       "      <td>01301000</td>\n",
       "      <td>40.954543</td>\n",
       "      <td>-73.734575</td>\n",
       "      <td>58.20592</td>\n",
       "    </tr>\n",
       "    <tr>\n",
       "      <th>4</th>\n",
       "      <td>01301500</td>\n",
       "      <td>40.911210</td>\n",
       "      <td>-73.813467</td>\n",
       "      <td>14.50440</td>\n",
       "    </tr>\n",
       "    <tr>\n",
       "      <th>...</th>\n",
       "      <td>...</td>\n",
       "      <td>...</td>\n",
       "      <td>...</td>\n",
       "      <td>...</td>\n",
       "    </tr>\n",
       "    <tr>\n",
       "      <th>286</th>\n",
       "      <td>04276500</td>\n",
       "      <td>44.358383</td>\n",
       "      <td>-73.396797</td>\n",
       "      <td>694.32840</td>\n",
       "    </tr>\n",
       "    <tr>\n",
       "      <th>287</th>\n",
       "      <td>04276842</td>\n",
       "      <td>43.942557</td>\n",
       "      <td>-73.463734</td>\n",
       "      <td>134.73900</td>\n",
       "    </tr>\n",
       "    <tr>\n",
       "      <th>288</th>\n",
       "      <td>04278300</td>\n",
       "      <td>43.663398</td>\n",
       "      <td>-73.603454</td>\n",
       "      <td>57.70620</td>\n",
       "    </tr>\n",
       "    <tr>\n",
       "      <th>289</th>\n",
       "      <td>04279000</td>\n",
       "      <td>43.843949</td>\n",
       "      <td>-73.432064</td>\n",
       "      <td>670.71960</td>\n",
       "    </tr>\n",
       "    <tr>\n",
       "      <th>290</th>\n",
       "      <td>04280450</td>\n",
       "      <td>43.463959</td>\n",
       "      <td>-73.284276</td>\n",
       "      <td>435.63060</td>\n",
       "    </tr>\n",
       "  </tbody>\n",
       "</table>\n",
       "<p>291 rows × 4 columns</p>\n",
       "</div>"
      ],
      "text/plain": [
       "        STAID   LAT_GAGE   LNG_GAGE  DRAIN_SQKM\n",
       "0    01200000  41.658983 -73.528458   532.58490\n",
       "1    01300000  40.983709 -73.687351    24.10380\n",
       "2    01300500  40.955932 -73.718186    11.72430\n",
       "3    01301000  40.954543 -73.734575    58.20592\n",
       "4    01301500  40.911210 -73.813467    14.50440\n",
       "..        ...        ...        ...         ...\n",
       "286  04276500  44.358383 -73.396797   694.32840\n",
       "287  04276842  43.942557 -73.463734   134.73900\n",
       "288  04278300  43.663398 -73.603454    57.70620\n",
       "289  04279000  43.843949 -73.432064   670.71960\n",
       "290  04280450  43.463959 -73.284276   435.63060\n",
       "\n",
       "[291 rows x 4 columns]"
      ]
     },
     "execution_count": 2,
     "metadata": {},
     "output_type": "execute_result"
    }
   ],
   "source": [
    "# Read in GagesII and make STAID into a str so it keeps the 0 in front of every number\n",
    "gages_df = pd.read_csv('NYS_Gage_LatLong.csv', dtype={'STAID': str})\n",
    "gages_df['STAID'] = gages_df['STAID'].astype(str)\n",
    "print(gages_df.dtypes)\n",
    "gages_df"
   ]
  },
  {
   "cell_type": "code",
   "execution_count": 3,
   "metadata": {},
   "outputs": [
    {
     "data": {
      "text/html": [
       "<div>\n",
       "<style scoped>\n",
       "    .dataframe tbody tr th:only-of-type {\n",
       "        vertical-align: middle;\n",
       "    }\n",
       "\n",
       "    .dataframe tbody tr th {\n",
       "        vertical-align: top;\n",
       "    }\n",
       "\n",
       "    .dataframe thead th {\n",
       "        text-align: right;\n",
       "    }\n",
       "</style>\n",
       "<table border=\"1\" class=\"dataframe\">\n",
       "  <thead>\n",
       "    <tr style=\"text-align: right;\">\n",
       "      <th></th>\n",
       "      <th>STAID</th>\n",
       "      <th>Norm_Peak_Flow_mmd</th>\n",
       "    </tr>\n",
       "  </thead>\n",
       "  <tbody>\n",
       "    <tr>\n",
       "      <th>0</th>\n",
       "      <td>01200000</td>\n",
       "      <td>13.20</td>\n",
       "    </tr>\n",
       "    <tr>\n",
       "      <th>1</th>\n",
       "      <td>01301000</td>\n",
       "      <td>69.09</td>\n",
       "    </tr>\n",
       "    <tr>\n",
       "      <th>2</th>\n",
       "      <td>01302020</td>\n",
       "      <td>39.58</td>\n",
       "    </tr>\n",
       "    <tr>\n",
       "      <th>3</th>\n",
       "      <td>01312000</td>\n",
       "      <td>24.12</td>\n",
       "    </tr>\n",
       "    <tr>\n",
       "      <th>4</th>\n",
       "      <td>01315000</td>\n",
       "      <td>7.26</td>\n",
       "    </tr>\n",
       "    <tr>\n",
       "      <th>...</th>\n",
       "      <td>...</td>\n",
       "      <td>...</td>\n",
       "    </tr>\n",
       "    <tr>\n",
       "      <th>144</th>\n",
       "      <td>04275000</td>\n",
       "      <td>40.20</td>\n",
       "    </tr>\n",
       "    <tr>\n",
       "      <th>145</th>\n",
       "      <td>04275500</td>\n",
       "      <td>26.61</td>\n",
       "    </tr>\n",
       "    <tr>\n",
       "      <th>146</th>\n",
       "      <td>04276500</td>\n",
       "      <td>17.88</td>\n",
       "    </tr>\n",
       "    <tr>\n",
       "      <th>147</th>\n",
       "      <td>04279000</td>\n",
       "      <td>4.52</td>\n",
       "    </tr>\n",
       "    <tr>\n",
       "      <th>148</th>\n",
       "      <td>04280450</td>\n",
       "      <td>20.77</td>\n",
       "    </tr>\n",
       "  </tbody>\n",
       "</table>\n",
       "<p>149 rows × 2 columns</p>\n",
       "</div>"
      ],
      "text/plain": [
       "        STAID  Norm_Peak_Flow_mmd\n",
       "0    01200000               13.20\n",
       "1    01301000               69.09\n",
       "2    01302020               39.58\n",
       "3    01312000               24.12\n",
       "4    01315000                7.26\n",
       "..        ...                 ...\n",
       "144  04275000               40.20\n",
       "145  04275500               26.61\n",
       "146  04276500               17.88\n",
       "147  04279000                4.52\n",
       "148  04280450               20.77\n",
       "\n",
       "[149 rows x 2 columns]"
      ]
     },
     "execution_count": 3,
     "metadata": {},
     "output_type": "execute_result"
    }
   ],
   "source": [
    "# read in the wetland data from ArcGIS & flow data csv\n",
    "flow = pd.read_csv('nys_gauge_mmd.csv', dtype={'STAID': str})\n",
    "flow['STAID'] = flow['STAID'].astype(str) # keeps the 0 in front of the GAGE_ID\n",
    "dbf = Dbf5('TabulateInter_Emergent1.dbf')\n",
    "emergent = dbf.to_dataframe() # converts dbf to a dataframe\n",
    "dbf1 = Dbf5('TabulateInter_ForestShrub1.dbf')\n",
    "forest_shrub = dbf1.to_dataframe()\n",
    "dbf2 = Dbf5('TabulateInter_FreshWPond1.dbf')\n",
    "pond = dbf2.to_dataframe()\n",
    "# 'Lake' and 'other' also exist but were removed because they have fewer than 150 gauge locations\n",
    "# Identify the 149 common GAGE_IDs in pond, emergent, and forest_shrub\n",
    "common_gage_ids = set(pond['GAGE_ID']).intersection(emergent['GAGE_ID'], forest_shrub['GAGE_ID'])\n",
    "# Filter flow to match the 149 common GAGE_IDs\n",
    "flow_cleaned = flow[flow['STAID'].isin(common_gage_ids)].reset_index(drop=True)\n",
    "flow_cleaned"
   ]
  },
  {
   "cell_type": "code",
   "execution_count": 4,
   "metadata": {},
   "outputs": [
    {
     "data": {
      "text/html": [
       "<div>\n",
       "<style scoped>\n",
       "    .dataframe tbody tr th:only-of-type {\n",
       "        vertical-align: middle;\n",
       "    }\n",
       "\n",
       "    .dataframe tbody tr th {\n",
       "        vertical-align: top;\n",
       "    }\n",
       "\n",
       "    .dataframe thead th {\n",
       "        text-align: right;\n",
       "    }\n",
       "</style>\n",
       "<table border=\"1\" class=\"dataframe\">\n",
       "  <thead>\n",
       "    <tr style=\"text-align: right;\">\n",
       "      <th></th>\n",
       "      <th>STAID</th>\n",
       "      <th>LAT_GAGE</th>\n",
       "      <th>LNG_GAGE</th>\n",
       "      <th>DRAIN_SQKM</th>\n",
       "    </tr>\n",
       "  </thead>\n",
       "  <tbody>\n",
       "    <tr>\n",
       "      <th>0</th>\n",
       "      <td>01200000</td>\n",
       "      <td>41.658983</td>\n",
       "      <td>-73.528458</td>\n",
       "      <td>532.58490</td>\n",
       "    </tr>\n",
       "    <tr>\n",
       "      <th>3</th>\n",
       "      <td>01301000</td>\n",
       "      <td>40.954543</td>\n",
       "      <td>-73.734575</td>\n",
       "      <td>58.20592</td>\n",
       "    </tr>\n",
       "    <tr>\n",
       "      <th>6</th>\n",
       "      <td>01302020</td>\n",
       "      <td>40.862306</td>\n",
       "      <td>-73.874389</td>\n",
       "      <td>101.58660</td>\n",
       "    </tr>\n",
       "    <tr>\n",
       "      <th>30</th>\n",
       "      <td>01312000</td>\n",
       "      <td>43.966174</td>\n",
       "      <td>-74.130704</td>\n",
       "      <td>498.21930</td>\n",
       "    </tr>\n",
       "    <tr>\n",
       "      <th>31</th>\n",
       "      <td>01315000</td>\n",
       "      <td>43.756453</td>\n",
       "      <td>-74.267093</td>\n",
       "      <td>337.52520</td>\n",
       "    </tr>\n",
       "    <tr>\n",
       "      <th>...</th>\n",
       "      <td>...</td>\n",
       "      <td>...</td>\n",
       "      <td>...</td>\n",
       "      <td>...</td>\n",
       "    </tr>\n",
       "    <tr>\n",
       "      <th>284</th>\n",
       "      <td>04275000</td>\n",
       "      <td>44.438936</td>\n",
       "      <td>-73.681528</td>\n",
       "      <td>512.80560</td>\n",
       "    </tr>\n",
       "    <tr>\n",
       "      <th>285</th>\n",
       "      <td>04275500</td>\n",
       "      <td>44.451436</td>\n",
       "      <td>-73.642638</td>\n",
       "      <td>1151.83800</td>\n",
       "    </tr>\n",
       "    <tr>\n",
       "      <th>286</th>\n",
       "      <td>04276500</td>\n",
       "      <td>44.358383</td>\n",
       "      <td>-73.396797</td>\n",
       "      <td>694.32840</td>\n",
       "    </tr>\n",
       "    <tr>\n",
       "      <th>289</th>\n",
       "      <td>04279000</td>\n",
       "      <td>43.843949</td>\n",
       "      <td>-73.432064</td>\n",
       "      <td>670.71960</td>\n",
       "    </tr>\n",
       "    <tr>\n",
       "      <th>290</th>\n",
       "      <td>04280450</td>\n",
       "      <td>43.463959</td>\n",
       "      <td>-73.284276</td>\n",
       "      <td>435.63060</td>\n",
       "    </tr>\n",
       "  </tbody>\n",
       "</table>\n",
       "<p>149 rows × 4 columns</p>\n",
       "</div>"
      ],
      "text/plain": [
       "        STAID   LAT_GAGE   LNG_GAGE  DRAIN_SQKM\n",
       "0    01200000  41.658983 -73.528458   532.58490\n",
       "3    01301000  40.954543 -73.734575    58.20592\n",
       "6    01302020  40.862306 -73.874389   101.58660\n",
       "30   01312000  43.966174 -74.130704   498.21930\n",
       "31   01315000  43.756453 -74.267093   337.52520\n",
       "..        ...        ...        ...         ...\n",
       "284  04275000  44.438936 -73.681528   512.80560\n",
       "285  04275500  44.451436 -73.642638  1151.83800\n",
       "286  04276500  44.358383 -73.396797   694.32840\n",
       "289  04279000  43.843949 -73.432064   670.71960\n",
       "290  04280450  43.463959 -73.284276   435.63060\n",
       "\n",
       "[149 rows x 4 columns]"
      ]
     },
     "execution_count": 4,
     "metadata": {},
     "output_type": "execute_result"
    }
   ],
   "source": [
    "# Shorten 'gages_df' to have the same amount of rows aligning with the 'STAID' column of 'flow_cleaned'\n",
    "gages_df = gages_df[gages_df['STAID'].isin(flow_cleaned['STAID'])]\n",
    "gages_df"
   ]
  },
  {
   "cell_type": "markdown",
   "metadata": {},
   "source": [
    "for one site: (FallCreek)"
   ]
  },
  {
   "cell_type": "code",
   "execution_count": 5,
   "metadata": {},
   "outputs": [
    {
     "name": "stdout",
     "output_type": "stream",
     "text": [
      "                            site_no  00060_Mean 00060_Mean_cd\n",
      "datetime                                                     \n",
      "2013-01-01 00:00:00+00:00  04234000       188.0             A\n",
      "2013-01-02 00:00:00+00:00  04234000       157.0             A\n",
      "2013-01-03 00:00:00+00:00  04234000       179.0             A\n",
      "2013-01-04 00:00:00+00:00  04234000       174.0             A\n",
      "2013-01-05 00:00:00+00:00  04234000       166.0             A\n"
     ]
    }
   ],
   "source": [
    "site = '04234000'\n",
    "single_value = nwis.get_record(sites= site, service='dv',parameterCd='00060', start='2013-01-01', end='2023-12-31')\n",
    "print(single_value.head())"
   ]
  },
  {
   "cell_type": "markdown",
   "metadata": {},
   "source": [
    "Using STAID:"
   ]
  },
  {
   "cell_type": "code",
   "execution_count": 6,
   "metadata": {},
   "outputs": [
    {
     "name": "stdout",
     "output_type": "stream",
     "text": [
      "No daily flow data for site 01301000. Skipping.\n",
      "No daily flow data for site 01317000. Skipping.\n",
      "No daily flow data for site 01372058. Skipping.\n",
      "No daily flow data for site 01376500. Skipping.\n",
      "        STAID                                         daily_flow  \\\n",
      "0    01200000  [408.0, 376.0, 345.0, 338.0, 331.0, 317.0, 307...   \n",
      "1    01302020  [44.7, 40.9, 39.2, 35.8, 33.9, 32.9, 31.7, 30....   \n",
      "2    01312000  [247.0, 225.0, 209.0, 204.0, 199.0, 192.0, 187...   \n",
      "3    01315000  [330.0, 330.0, 330.0, 329.0, 327.0, 327.0, 327...   \n",
      "4    01315500  [1140.0, 1030.0, 990.0, 1110.0, 1090.0, 1100.0...   \n",
      "..        ...                                                ...   \n",
      "140  04275000  [275.0, 1380.0, 1980.0, 911.0, 629.0, 494.0, 4...   \n",
      "141  04275500  [350.0, 318.0, 300.0, 286.0, 272.0, 259.0, 245...   \n",
      "142  04276500  [197.0, 184.0, 182.0, 171.0, 168.0, 162.0, 157...   \n",
      "143  04279000  [223.0, 286.0, 283.0, 288.0, 290.0, 295.0, 298...   \n",
      "144  04280450  [220.0, 185.0, 190.0, 221.0, 195.0, 184.0, 175...   \n",
      "\n",
      "                                 normalized_daily_flow  \n",
      "0    [0.7660750426833356, 0.7059907256101329, 0.647...  \n",
      "1    [0.44001866387889743, 0.4026121555401992, 0.38...  \n",
      "2    [0.495765619677921, 0.4516083580062033, 0.4194...  \n",
      "3    [0.9777047758211832, 0.9777047758211832, 0.977...  \n",
      "4    [0.5537859772646568, 0.5003504882303478, 0.480...  \n",
      "..                                                 ...  \n",
      "140  [0.536265594603491, 2.6910782565557003, 3.8611...  \n",
      "141  [0.30386217506281266, 0.2760804904856412, 0.26...  \n",
      "142  [0.2837274119854524, 0.26500428327575254, 0.26...  \n",
      "143  [0.3324787288160358, 0.42640769704657505, 0.42...  \n",
      "144  [0.5050150287881522, 0.42467172875367337, 0.43...  \n",
      "\n",
      "[145 rows x 3 columns]\n"
     ]
    }
   ],
   "source": [
    "results = []\n",
    "\n",
    "for i in range(len(gages_df)):\n",
    "    try:\n",
    "        # Use USGS site ID directly from gages_df\n",
    "        #site_id = str(int(gages_df['STAID'].iloc[i]))  # Convert to string properly\n",
    "        #site_id = str(gages_df['STAID'].iloc[i]).zfill(8)  # Ensures 8-digit format\n",
    "        site_id = gages_df['STAID'].iloc[i]\n",
    "\n",
    "\n",
    "        # Retrieve daily mean flow data (00060)\n",
    "        get_flow = nwis.get_record(sites=site_id, service='dv', parameterCd='00060', start='2013-01-01')\n",
    "\n",
    "        if get_flow.empty:\n",
    "            print(f\"No daily flow data for site {site_id}. Skipping.\")\n",
    "            continue  # Skip this site if no data is found\n",
    "\n",
    "        # Find correct column for '00060'\n",
    "        column_name = [col for col in get_flow.columns if '00060' in col]\n",
    "        daily_flow_series = get_flow[column_name[0]] if column_name else pd.Series(dtype='float64')\n",
    "\n",
    "        # Get drainage area\n",
    "        cur_drainage_area = gages_df.loc[gages_df['STAID'] == site_id, 'DRAIN_SQKM']\n",
    "        if cur_drainage_area.isna().any() or cur_drainage_area.empty:\n",
    "            print(f\"Skipping site {site_id}: Missing drainage area.\")\n",
    "            continue  # Skip if no valid drainage area\n",
    "        \n",
    "        cur_drainage_area = cur_drainage_area.iloc[0]\n",
    "        normalized_flow_series = daily_flow_series / cur_drainage_area if cur_drainage_area > 0 else np.nan\n",
    "\n",
    "        # Store results\n",
    "        results.append({\n",
    "            'STAID': site_id,\n",
    "            'daily_flow': daily_flow_series.tolist(),  \n",
    "            'normalized_daily_flow': normalized_flow_series.tolist()\n",
    "        })\n",
    "\n",
    "    except Exception as e:\n",
    "        print(f\"Error at site {site_id}: {e}\")\n",
    "\n",
    "# Convert results to DataFrame\n",
    "results_df = pd.DataFrame(results)\n",
    "print(results_df)\n"
   ]
  },
  {
   "cell_type": "code",
   "execution_count": 52,
   "metadata": {},
   "outputs": [
    {
     "data": {
      "text/html": [
       "<div>\n",
       "<style scoped>\n",
       "    .dataframe tbody tr th:only-of-type {\n",
       "        vertical-align: middle;\n",
       "    }\n",
       "\n",
       "    .dataframe tbody tr th {\n",
       "        vertical-align: top;\n",
       "    }\n",
       "\n",
       "    .dataframe thead th {\n",
       "        text-align: right;\n",
       "    }\n",
       "</style>\n",
       "<table border=\"1\" class=\"dataframe\">\n",
       "  <thead>\n",
       "    <tr style=\"text-align: right;\">\n",
       "      <th></th>\n",
       "      <th>STAID</th>\n",
       "      <th>daily_flow</th>\n",
       "      <th>normalized_daily_flow</th>\n",
       "    </tr>\n",
       "  </thead>\n",
       "  <tbody>\n",
       "    <tr>\n",
       "      <th>0</th>\n",
       "      <td>01200000</td>\n",
       "      <td>[408.0, 376.0, 345.0, 338.0, 331.0, 317.0, 307...</td>\n",
       "      <td>[0.7660750426833356, 0.7059907256101329, 0.647...</td>\n",
       "    </tr>\n",
       "    <tr>\n",
       "      <th>1</th>\n",
       "      <td>01302020</td>\n",
       "      <td>[44.7, 40.9, 39.2, 35.8, 33.9, 32.9, 31.7, 30....</td>\n",
       "      <td>[0.44001866387889743, 0.4026121555401992, 0.38...</td>\n",
       "    </tr>\n",
       "    <tr>\n",
       "      <th>2</th>\n",
       "      <td>01312000</td>\n",
       "      <td>[247.0, 225.0, 209.0, 204.0, 199.0, 192.0, 187...</td>\n",
       "      <td>[0.495765619677921, 0.4516083580062033, 0.4194...</td>\n",
       "    </tr>\n",
       "    <tr>\n",
       "      <th>3</th>\n",
       "      <td>01315000</td>\n",
       "      <td>[330.0, 330.0, 330.0, 329.0, 327.0, 327.0, 327...</td>\n",
       "      <td>[0.9777047758211832, 0.9777047758211832, 0.977...</td>\n",
       "    </tr>\n",
       "    <tr>\n",
       "      <th>4</th>\n",
       "      <td>01315500</td>\n",
       "      <td>[1140.0, 1030.0, 990.0, 1110.0, 1090.0, 1100.0...</td>\n",
       "      <td>[0.5537859772646568, 0.5003504882303478, 0.480...</td>\n",
       "    </tr>\n",
       "    <tr>\n",
       "      <th>...</th>\n",
       "      <td>...</td>\n",
       "      <td>...</td>\n",
       "      <td>...</td>\n",
       "    </tr>\n",
       "    <tr>\n",
       "      <th>140</th>\n",
       "      <td>04275000</td>\n",
       "      <td>[275.0, 1380.0, 1980.0, 911.0, 629.0, 494.0, 4...</td>\n",
       "      <td>[0.536265594603491, 2.6910782565557003, 3.8611...</td>\n",
       "    </tr>\n",
       "    <tr>\n",
       "      <th>141</th>\n",
       "      <td>04275500</td>\n",
       "      <td>[350.0, 318.0, 300.0, 286.0, 272.0, 259.0, 245...</td>\n",
       "      <td>[0.30386217506281266, 0.2760804904856412, 0.26...</td>\n",
       "    </tr>\n",
       "    <tr>\n",
       "      <th>142</th>\n",
       "      <td>04276500</td>\n",
       "      <td>[197.0, 184.0, 182.0, 171.0, 168.0, 162.0, 157...</td>\n",
       "      <td>[0.2837274119854524, 0.26500428327575254, 0.26...</td>\n",
       "    </tr>\n",
       "    <tr>\n",
       "      <th>143</th>\n",
       "      <td>04279000</td>\n",
       "      <td>[223.0, 286.0, 283.0, 288.0, 290.0, 295.0, 298...</td>\n",
       "      <td>[0.3324787288160358, 0.42640769704657505, 0.42...</td>\n",
       "    </tr>\n",
       "    <tr>\n",
       "      <th>144</th>\n",
       "      <td>04280450</td>\n",
       "      <td>[220.0, 185.0, 190.0, 221.0, 195.0, 184.0, 175...</td>\n",
       "      <td>[0.5050150287881522, 0.42467172875367337, 0.43...</td>\n",
       "    </tr>\n",
       "  </tbody>\n",
       "</table>\n",
       "<p>145 rows × 3 columns</p>\n",
       "</div>"
      ],
      "text/plain": [
       "        STAID                                         daily_flow  \\\n",
       "0    01200000  [408.0, 376.0, 345.0, 338.0, 331.0, 317.0, 307...   \n",
       "1    01302020  [44.7, 40.9, 39.2, 35.8, 33.9, 32.9, 31.7, 30....   \n",
       "2    01312000  [247.0, 225.0, 209.0, 204.0, 199.0, 192.0, 187...   \n",
       "3    01315000  [330.0, 330.0, 330.0, 329.0, 327.0, 327.0, 327...   \n",
       "4    01315500  [1140.0, 1030.0, 990.0, 1110.0, 1090.0, 1100.0...   \n",
       "..        ...                                                ...   \n",
       "140  04275000  [275.0, 1380.0, 1980.0, 911.0, 629.0, 494.0, 4...   \n",
       "141  04275500  [350.0, 318.0, 300.0, 286.0, 272.0, 259.0, 245...   \n",
       "142  04276500  [197.0, 184.0, 182.0, 171.0, 168.0, 162.0, 157...   \n",
       "143  04279000  [223.0, 286.0, 283.0, 288.0, 290.0, 295.0, 298...   \n",
       "144  04280450  [220.0, 185.0, 190.0, 221.0, 195.0, 184.0, 175...   \n",
       "\n",
       "                                 normalized_daily_flow  \n",
       "0    [0.7660750426833356, 0.7059907256101329, 0.647...  \n",
       "1    [0.44001866387889743, 0.4026121555401992, 0.38...  \n",
       "2    [0.495765619677921, 0.4516083580062033, 0.4194...  \n",
       "3    [0.9777047758211832, 0.9777047758211832, 0.977...  \n",
       "4    [0.5537859772646568, 0.5003504882303478, 0.480...  \n",
       "..                                                 ...  \n",
       "140  [0.536265594603491, 2.6910782565557003, 3.8611...  \n",
       "141  [0.30386217506281266, 0.2760804904856412, 0.26...  \n",
       "142  [0.2837274119854524, 0.26500428327575254, 0.26...  \n",
       "143  [0.3324787288160358, 0.42640769704657505, 0.42...  \n",
       "144  [0.5050150287881522, 0.42467172875367337, 0.43...  \n",
       "\n",
       "[145 rows x 3 columns]"
      ]
     },
     "execution_count": 52,
     "metadata": {},
     "output_type": "execute_result"
    }
   ],
   "source": [
    "results_df"
   ]
  },
  {
   "cell_type": "code",
   "execution_count": 89,
   "metadata": {},
   "outputs": [],
   "source": [
    "# Export results_df to a csv\n",
    "results_df.to_csv(\"usgs_daily_flow_normalized.csv\", index=False)"
   ]
  },
  {
   "cell_type": "markdown",
   "metadata": {},
   "source": [
    "# Batch Precip data from DayMet"
   ]
  },
  {
   "cell_type": "code",
   "execution_count": 8,
   "metadata": {},
   "outputs": [],
   "source": [
    "import requests\n",
    "import pandas as pd\n",
    "from tqdm import tqdm\n",
    "import time\n",
    "\n",
    "# Function to query Daymet API for daily precipitation at a given lat/lon\n",
    "def get_daymet_data(lat, lon, start_year=2013, end_year=2022):\n",
    "    \"\"\"Fetches daily precipitation from Daymet for a given lat/lon.\"\"\"\n",
    "    \n",
    "    url = f\"https://daymet.ornl.gov/single-pixel/api/data?lat={lat}&lon={lon}&vars=prcp&start={start_year}&end={end_year}&format=json\"\n",
    "\n",
    "    try:\n",
    "        response = requests.get(url)\n",
    "        response.raise_for_status()  # Raise error if request fails\n",
    "        data = response.json()\n",
    "\n",
    "        # Extract daily data\n",
    "        df = pd.DataFrame(data[\"data\"])\n",
    "        df[\"lat\"] = lat\n",
    "        df[\"lon\"] = lon\n",
    "        return df\n",
    "\n",
    "    except requests.exceptions.RequestException as e:\n",
    "        print(f\"Error fetching data for {lat}, {lon}: {e}\")\n",
    "        return None\n"
   ]
  },
  {
   "cell_type": "code",
   "execution_count": 51,
   "metadata": {},
   "outputs": [
    {
     "data": {
      "text/html": [
       "<div>\n",
       "<style scoped>\n",
       "    .dataframe tbody tr th:only-of-type {\n",
       "        vertical-align: middle;\n",
       "    }\n",
       "\n",
       "    .dataframe tbody tr th {\n",
       "        vertical-align: top;\n",
       "    }\n",
       "\n",
       "    .dataframe thead th {\n",
       "        text-align: right;\n",
       "    }\n",
       "</style>\n",
       "<table border=\"1\" class=\"dataframe\">\n",
       "  <thead>\n",
       "    <tr style=\"text-align: right;\">\n",
       "      <th></th>\n",
       "      <th>STAID</th>\n",
       "      <th>LAT_GAGE</th>\n",
       "      <th>LNG_GAGE</th>\n",
       "      <th>DRAIN_SQKM</th>\n",
       "    </tr>\n",
       "  </thead>\n",
       "  <tbody>\n",
       "    <tr>\n",
       "      <th>0</th>\n",
       "      <td>01200000</td>\n",
       "      <td>41.658983</td>\n",
       "      <td>-73.528458</td>\n",
       "      <td>532.5849</td>\n",
       "    </tr>\n",
       "    <tr>\n",
       "      <th>6</th>\n",
       "      <td>01302020</td>\n",
       "      <td>40.862306</td>\n",
       "      <td>-73.874389</td>\n",
       "      <td>101.5866</td>\n",
       "    </tr>\n",
       "    <tr>\n",
       "      <th>30</th>\n",
       "      <td>01312000</td>\n",
       "      <td>43.966174</td>\n",
       "      <td>-74.130704</td>\n",
       "      <td>498.2193</td>\n",
       "    </tr>\n",
       "    <tr>\n",
       "      <th>31</th>\n",
       "      <td>01315000</td>\n",
       "      <td>43.756453</td>\n",
       "      <td>-74.267093</td>\n",
       "      <td>337.5252</td>\n",
       "    </tr>\n",
       "    <tr>\n",
       "      <th>32</th>\n",
       "      <td>01315500</td>\n",
       "      <td>43.700898</td>\n",
       "      <td>-73.983466</td>\n",
       "      <td>2058.5570</td>\n",
       "    </tr>\n",
       "    <tr>\n",
       "      <th>...</th>\n",
       "      <td>...</td>\n",
       "      <td>...</td>\n",
       "      <td>...</td>\n",
       "      <td>...</td>\n",
       "    </tr>\n",
       "    <tr>\n",
       "      <th>284</th>\n",
       "      <td>04275000</td>\n",
       "      <td>44.438936</td>\n",
       "      <td>-73.681528</td>\n",
       "      <td>512.8056</td>\n",
       "    </tr>\n",
       "    <tr>\n",
       "      <th>285</th>\n",
       "      <td>04275500</td>\n",
       "      <td>44.451436</td>\n",
       "      <td>-73.642638</td>\n",
       "      <td>1151.8380</td>\n",
       "    </tr>\n",
       "    <tr>\n",
       "      <th>286</th>\n",
       "      <td>04276500</td>\n",
       "      <td>44.358383</td>\n",
       "      <td>-73.396797</td>\n",
       "      <td>694.3284</td>\n",
       "    </tr>\n",
       "    <tr>\n",
       "      <th>289</th>\n",
       "      <td>04279000</td>\n",
       "      <td>43.843949</td>\n",
       "      <td>-73.432064</td>\n",
       "      <td>670.7196</td>\n",
       "    </tr>\n",
       "    <tr>\n",
       "      <th>290</th>\n",
       "      <td>04280450</td>\n",
       "      <td>43.463959</td>\n",
       "      <td>-73.284276</td>\n",
       "      <td>435.6306</td>\n",
       "    </tr>\n",
       "  </tbody>\n",
       "</table>\n",
       "<p>145 rows × 4 columns</p>\n",
       "</div>"
      ],
      "text/plain": [
       "        STAID   LAT_GAGE   LNG_GAGE  DRAIN_SQKM\n",
       "0    01200000  41.658983 -73.528458    532.5849\n",
       "6    01302020  40.862306 -73.874389    101.5866\n",
       "30   01312000  43.966174 -74.130704    498.2193\n",
       "31   01315000  43.756453 -74.267093    337.5252\n",
       "32   01315500  43.700898 -73.983466   2058.5570\n",
       "..        ...        ...        ...         ...\n",
       "284  04275000  44.438936 -73.681528    512.8056\n",
       "285  04275500  44.451436 -73.642638   1151.8380\n",
       "286  04276500  44.358383 -73.396797    694.3284\n",
       "289  04279000  43.843949 -73.432064    670.7196\n",
       "290  04280450  43.463959 -73.284276    435.6306\n",
       "\n",
       "[145 rows x 4 columns]"
      ]
     },
     "execution_count": 51,
     "metadata": {},
     "output_type": "execute_result"
    }
   ],
   "source": [
    "# Shorten 'gages_df' to have the same amount of rows aligning with the 'STAID' column of 'results_df' \n",
    "gages_df = gages_df[gages_df['STAID'].isin(results_df['STAID'])]\n",
    "gages_df"
   ]
  },
  {
   "cell_type": "code",
   "execution_count": 11,
   "metadata": {},
   "outputs": [
    {
     "name": "stderr",
     "output_type": "stream",
     "text": [
      "  0%|          | 0/145 [00:00<?, ?it/s]"
     ]
    },
    {
     "name": "stdout",
     "output_type": "stream",
     "text": [
      "Fetching data for site 01200000 at (41.658983, -73.528458)\n"
     ]
    },
    {
     "name": "stderr",
     "output_type": "stream",
     "text": [
      "  1%|          | 1/145 [00:01<03:42,  1.55s/it]"
     ]
    },
    {
     "name": "stdout",
     "output_type": "stream",
     "text": [
      "Fetching data for site 01302020 at (40.862306, -73.874389)\n"
     ]
    },
    {
     "name": "stderr",
     "output_type": "stream",
     "text": [
      "  1%|▏         | 2/145 [00:03<03:39,  1.53s/it]"
     ]
    },
    {
     "name": "stdout",
     "output_type": "stream",
     "text": [
      "Fetching data for site 01312000 at (43.966174, -74.130704)\n"
     ]
    },
    {
     "name": "stderr",
     "output_type": "stream",
     "text": [
      "  2%|▏         | 3/145 [00:04<03:51,  1.63s/it]"
     ]
    },
    {
     "name": "stdout",
     "output_type": "stream",
     "text": [
      "Fetching data for site 01315000 at (43.756453, -74.267093)\n"
     ]
    },
    {
     "name": "stderr",
     "output_type": "stream",
     "text": [
      "  3%|▎         | 4/145 [00:06<03:35,  1.53s/it]"
     ]
    },
    {
     "name": "stdout",
     "output_type": "stream",
     "text": [
      "Fetching data for site 01315500 at (43.700898, -73.983466)\n"
     ]
    },
    {
     "name": "stderr",
     "output_type": "stream",
     "text": [
      "  3%|▎         | 5/145 [00:07<03:31,  1.51s/it]"
     ]
    },
    {
     "name": "stdout",
     "output_type": "stream",
     "text": [
      "Fetching data for site 01318500 at (43.31896, -73.844289)\n"
     ]
    },
    {
     "name": "stderr",
     "output_type": "stream",
     "text": [
      "  4%|▍         | 6/145 [00:09<03:24,  1.47s/it]"
     ]
    },
    {
     "name": "stdout",
     "output_type": "stream",
     "text": [
      "Fetching data for site 01321000 at (43.352847, -74.270415)\n"
     ]
    },
    {
     "name": "stderr",
     "output_type": "stream",
     "text": [
      "  5%|▍         | 7/145 [00:10<03:20,  1.46s/it]"
     ]
    },
    {
     "name": "stdout",
     "output_type": "stream",
     "text": [
      "Fetching data for site 01325000 at (43.31146, -73.867346)\n"
     ]
    },
    {
     "name": "stderr",
     "output_type": "stream",
     "text": [
      "  6%|▌         | 8/145 [00:11<03:18,  1.45s/it]"
     ]
    },
    {
     "name": "stdout",
     "output_type": "stream",
     "text": [
      "Fetching data for site 01327750 at (43.269517, -73.595949)\n"
     ]
    },
    {
     "name": "stderr",
     "output_type": "stream",
     "text": [
      "  6%|▌         | 9/145 [00:13<03:13,  1.42s/it]"
     ]
    },
    {
     "name": "stdout",
     "output_type": "stream",
     "text": [
      "Fetching data for site 01329490 at (43.108687, -73.421779)\n"
     ]
    },
    {
     "name": "stderr",
     "output_type": "stream",
     "text": [
      "  7%|▋         | 10/145 [00:14<03:14,  1.44s/it]"
     ]
    },
    {
     "name": "stdout",
     "output_type": "stream",
     "text": [
      "Fetching data for site 01330000 at (43.03063, -73.927347)\n"
     ]
    },
    {
     "name": "stderr",
     "output_type": "stream",
     "text": [
      "  8%|▊         | 11/145 [00:16<03:19,  1.49s/it]"
     ]
    },
    {
     "name": "stdout",
     "output_type": "stream",
     "text": [
      "Fetching data for site 01331095 at (42.935632, -73.651784)\n"
     ]
    },
    {
     "name": "stderr",
     "output_type": "stream",
     "text": [
      "  8%|▊         | 12/145 [00:17<03:19,  1.50s/it]"
     ]
    },
    {
     "name": "stdout",
     "output_type": "stream",
     "text": [
      "Fetching data for site 01334500 at (42.938689, -73.377056)\n"
     ]
    },
    {
     "name": "stderr",
     "output_type": "stream",
     "text": [
      "  9%|▉         | 13/145 [00:19<03:15,  1.48s/it]"
     ]
    },
    {
     "name": "stdout",
     "output_type": "stream",
     "text": [
      "Fetching data for site 01335754 at (42.829244, -73.666229)\n"
     ]
    },
    {
     "name": "stderr",
     "output_type": "stream",
     "text": [
      " 10%|▉         | 14/145 [00:21<03:21,  1.54s/it]"
     ]
    },
    {
     "name": "stdout",
     "output_type": "stream",
     "text": [
      "Fetching data for site 01336000 at (43.264514, -75.436286)\n"
     ]
    },
    {
     "name": "stderr",
     "output_type": "stream",
     "text": [
      " 10%|█         | 15/145 [00:22<03:14,  1.50s/it]"
     ]
    },
    {
     "name": "stdout",
     "output_type": "stream",
     "text": [
      "Fetching data for site 01346000 at (43.068959, -74.988212)\n"
     ]
    },
    {
     "name": "stderr",
     "output_type": "stream",
     "text": [
      " 11%|█         | 16/145 [00:23<03:15,  1.52s/it]"
     ]
    },
    {
     "name": "stdout",
     "output_type": "stream",
     "text": [
      "Fetching data for site 01347000 at (43.014793, -74.779315)\n"
     ]
    },
    {
     "name": "stderr",
     "output_type": "stream",
     "text": [
      " 12%|█▏        | 17/145 [00:25<03:10,  1.49s/it]"
     ]
    },
    {
     "name": "stdout",
     "output_type": "stream",
     "text": [
      "Fetching data for site 01348000 at (43.016738, -74.740702)\n"
     ]
    },
    {
     "name": "stderr",
     "output_type": "stream",
     "text": [
      " 12%|█▏        | 18/145 [00:26<03:06,  1.47s/it]"
     ]
    },
    {
     "name": "stdout",
     "output_type": "stream",
     "text": [
      "Fetching data for site 01349000 at (42.929517, -74.625976)\n"
     ]
    },
    {
     "name": "stderr",
     "output_type": "stream",
     "text": [
      " 13%|█▎        | 19/145 [00:28<03:05,  1.48s/it]"
     ]
    },
    {
     "name": "stdout",
     "output_type": "stream",
     "text": [
      "Fetching data for site 01349150 at (42.876184, -74.602919)\n"
     ]
    },
    {
     "name": "stderr",
     "output_type": "stream",
     "text": [
      " 14%|█▍        | 20/145 [00:29<03:03,  1.47s/it]"
     ]
    },
    {
     "name": "stdout",
     "output_type": "stream",
     "text": [
      "Fetching data for site 01349700 at (42.249253, -74.302645)\n"
     ]
    },
    {
     "name": "stderr",
     "output_type": "stream",
     "text": [
      " 14%|█▍        | 21/145 [00:31<03:05,  1.49s/it]"
     ]
    },
    {
     "name": "stdout",
     "output_type": "stream",
     "text": [
      "Fetching data for site 01349705 at (42.237031, -74.340147)\n"
     ]
    },
    {
     "name": "stderr",
     "output_type": "stream",
     "text": [
      " 15%|█▌        | 22/145 [00:32<03:08,  1.53s/it]"
     ]
    },
    {
     "name": "stdout",
     "output_type": "stream",
     "text": [
      "Fetching data for site 01349950 at (42.308418, -74.389869)\n"
     ]
    },
    {
     "name": "stderr",
     "output_type": "stream",
     "text": [
      " 16%|█▌        | 23/145 [00:34<03:01,  1.49s/it]"
     ]
    },
    {
     "name": "stdout",
     "output_type": "stream",
     "text": [
      "Fetching data for site 01350035 at (42.338139, -74.451537)\n"
     ]
    },
    {
     "name": "stderr",
     "output_type": "stream",
     "text": [
      " 17%|█▋        | 24/145 [00:35<03:00,  1.49s/it]"
     ]
    },
    {
     "name": "stdout",
     "output_type": "stream",
     "text": [
      "Fetching data for site 01350101 at (42.397303, -74.450425)\n"
     ]
    },
    {
     "name": "stderr",
     "output_type": "stream",
     "text": [
      " 17%|█▋        | 25/145 [00:37<03:01,  1.51s/it]"
     ]
    },
    {
     "name": "stdout",
     "output_type": "stream",
     "text": [
      "Fetching data for site 01350120 at (42.406191, -74.447091)\n"
     ]
    },
    {
     "name": "stderr",
     "output_type": "stream",
     "text": [
      " 18%|█▊        | 26/145 [00:38<02:57,  1.49s/it]"
     ]
    },
    {
     "name": "stdout",
     "output_type": "stream",
     "text": [
      "Fetching data for site 01350180 at (42.465911, -74.462091)\n"
     ]
    },
    {
     "name": "stderr",
     "output_type": "stream",
     "text": [
      " 19%|█▊        | 27/145 [00:40<02:58,  1.51s/it]"
     ]
    },
    {
     "name": "stdout",
     "output_type": "stream",
     "text": [
      "Fetching data for site 01350355 at (42.537021, -74.41042)\n"
     ]
    },
    {
     "name": "stderr",
     "output_type": "stream",
     "text": [
      " 19%|█▉        | 28/145 [00:41<02:54,  1.49s/it]"
     ]
    },
    {
     "name": "stdout",
     "output_type": "stream",
     "text": [
      "Fetching data for site 01351500 at (42.800075, -74.262907)\n"
     ]
    },
    {
     "name": "stderr",
     "output_type": "stream",
     "text": [
      " 20%|██        | 29/145 [00:43<02:51,  1.48s/it]"
     ]
    },
    {
     "name": "stdout",
     "output_type": "stream",
     "text": [
      "Fetching data for site 01357500 at (42.785356, -73.707619)\n"
     ]
    },
    {
     "name": "stderr",
     "output_type": "stream",
     "text": [
      " 21%|██        | 30/145 [00:44<02:47,  1.46s/it]"
     ]
    },
    {
     "name": "stdout",
     "output_type": "stream",
     "text": [
      "Fetching data for site 01358000 at (42.7523, -73.689007)\n"
     ]
    },
    {
     "name": "stderr",
     "output_type": "stream",
     "text": [
      " 21%|██▏       | 31/145 [00:46<02:42,  1.42s/it]"
     ]
    },
    {
     "name": "stdout",
     "output_type": "stream",
     "text": [
      "Fetching data for site 01360640 at (42.55203, -73.5915)\n"
     ]
    },
    {
     "name": "stderr",
     "output_type": "stream",
     "text": [
      " 22%|██▏       | 32/145 [00:47<02:45,  1.47s/it]"
     ]
    },
    {
     "name": "stdout",
     "output_type": "stream",
     "text": [
      "Fetching data for site 01362500 at (42.014259, -74.270703)\n"
     ]
    },
    {
     "name": "stderr",
     "output_type": "stream",
     "text": [
      " 23%|██▎       | 33/145 [00:49<02:47,  1.49s/it]"
     ]
    },
    {
     "name": "stdout",
     "output_type": "stream",
     "text": [
      "Fetching data for site 01364500 at (42.037869, -73.972081)\n"
     ]
    },
    {
     "name": "stderr",
     "output_type": "stream",
     "text": [
      " 23%|██▎       | 34/145 [00:50<02:45,  1.49s/it]"
     ]
    },
    {
     "name": "stdout",
     "output_type": "stream",
     "text": [
      "Fetching data for site 01365500 at (41.845092, -74.540435)\n"
     ]
    },
    {
     "name": "stderr",
     "output_type": "stream",
     "text": [
      " 24%|██▍       | 35/145 [00:52<02:48,  1.54s/it]"
     ]
    },
    {
     "name": "stdout",
     "output_type": "stream",
     "text": [
      "Fetching data for site 01367500 at (41.843148, -74.085976)\n"
     ]
    },
    {
     "name": "stderr",
     "output_type": "stream",
     "text": [
      " 25%|██▍       | 36/145 [00:53<02:40,  1.47s/it]"
     ]
    },
    {
     "name": "stdout",
     "output_type": "stream",
     "text": [
      "Fetching data for site 01372500 at (41.653149, -73.872635)\n"
     ]
    },
    {
     "name": "stderr",
     "output_type": "stream",
     "text": [
      " 26%|██▌       | 37/145 [00:54<02:35,  1.44s/it]"
     ]
    },
    {
     "name": "stdout",
     "output_type": "stream",
     "text": [
      "Fetching data for site 01374505 at (41.394539, -73.607072)\n"
     ]
    },
    {
     "name": "stderr",
     "output_type": "stream",
     "text": [
      " 26%|██▌       | 38/145 [00:56<02:33,  1.44s/it]"
     ]
    },
    {
     "name": "stdout",
     "output_type": "stream",
     "text": [
      "Fetching data for site 01374531 at (41.373778, -73.63875)\n"
     ]
    },
    {
     "name": "stderr",
     "output_type": "stream",
     "text": [
      " 27%|██▋       | 39/145 [00:57<02:29,  1.41s/it]"
     ]
    },
    {
     "name": "stdout",
     "output_type": "stream",
     "text": [
      "Fetching data for site 01374559 at (41.470649, -73.760132)\n"
     ]
    },
    {
     "name": "stderr",
     "output_type": "stream",
     "text": [
      " 28%|██▊       | 40/145 [00:59<02:25,  1.39s/it]"
     ]
    },
    {
     "name": "stdout",
     "output_type": "stream",
     "text": [
      "Fetching data for site 01374581 at (41.449816, -73.73652)\n"
     ]
    },
    {
     "name": "stderr",
     "output_type": "stream",
     "text": [
      " 28%|██▊       | 41/145 [01:00<02:22,  1.37s/it]"
     ]
    },
    {
     "name": "stdout",
     "output_type": "stream",
     "text": [
      "Fetching data for site 01374598 at (41.475861, -73.689472)\n"
     ]
    },
    {
     "name": "stderr",
     "output_type": "stream",
     "text": [
      " 29%|██▉       | 42/145 [01:01<02:19,  1.36s/it]"
     ]
    },
    {
     "name": "stdout",
     "output_type": "stream",
     "text": [
      "Fetching data for site 01374701 at (41.357872, -73.668185)\n"
     ]
    },
    {
     "name": "stderr",
     "output_type": "stream",
     "text": [
      " 30%|██▉       | 43/145 [01:03<02:17,  1.34s/it]"
     ]
    },
    {
     "name": "stdout",
     "output_type": "stream",
     "text": [
      "Fetching data for site 01374821 at (41.327194, -73.655833)\n"
     ]
    },
    {
     "name": "stderr",
     "output_type": "stream",
     "text": [
      " 30%|███       | 44/145 [01:04<02:22,  1.41s/it]"
     ]
    },
    {
     "name": "stdout",
     "output_type": "stream",
     "text": [
      "Fetching data for site 01374890 at (41.260222, -73.601861)\n"
     ]
    },
    {
     "name": "stderr",
     "output_type": "stream",
     "text": [
      " 31%|███       | 45/145 [01:06<02:20,  1.40s/it]"
     ]
    },
    {
     "name": "stdout",
     "output_type": "stream",
     "text": [
      "Fetching data for site 01374901 at (41.266206, -73.665685)\n"
     ]
    },
    {
     "name": "stderr",
     "output_type": "stream",
     "text": [
      " 32%|███▏      | 46/145 [01:07<02:16,  1.38s/it]"
     ]
    },
    {
     "name": "stdout",
     "output_type": "stream",
     "text": [
      "Fetching data for site 01374930 at (41.338139, -73.768694)\n"
     ]
    },
    {
     "name": "stderr",
     "output_type": "stream",
     "text": [
      " 32%|███▏      | 47/145 [01:08<02:13,  1.36s/it]"
     ]
    },
    {
     "name": "stdout",
     "output_type": "stream",
     "text": [
      "Fetching data for site 01374941 at (41.287611, -73.753639)\n"
     ]
    },
    {
     "name": "stderr",
     "output_type": "stream",
     "text": [
      " 33%|███▎      | 48/145 [01:10<02:12,  1.37s/it]"
     ]
    },
    {
     "name": "stdout",
     "output_type": "stream",
     "text": [
      "Fetching data for site 01375000 at (41.225094, -73.859303)\n"
     ]
    },
    {
     "name": "stderr",
     "output_type": "stream",
     "text": [
      " 34%|███▍      | 49/145 [01:11<02:12,  1.38s/it]"
     ]
    },
    {
     "name": "stdout",
     "output_type": "stream",
     "text": [
      "Fetching data for site 01376800 at (41.095652, -73.964027)\n"
     ]
    },
    {
     "name": "stderr",
     "output_type": "stream",
     "text": [
      " 34%|███▍      | 50/145 [01:12<02:10,  1.38s/it]"
     ]
    },
    {
     "name": "stdout",
     "output_type": "stream",
     "text": [
      "Fetching data for site 01387400 at (41.140373, -74.168479)\n"
     ]
    },
    {
     "name": "stderr",
     "output_type": "stream",
     "text": [
      " 35%|███▌      | 51/145 [01:14<02:08,  1.37s/it]"
     ]
    },
    {
     "name": "stdout",
     "output_type": "stream",
     "text": [
      "Fetching data for site 01387420 at (41.118429, -74.160145)\n"
     ]
    },
    {
     "name": "stderr",
     "output_type": "stream",
     "text": [
      " 36%|███▌      | 52/145 [01:15<02:08,  1.38s/it]"
     ]
    },
    {
     "name": "stdout",
     "output_type": "stream",
     "text": [
      "Fetching data for site 01387450 at (41.141111, -74.116111)\n"
     ]
    },
    {
     "name": "stderr",
     "output_type": "stream",
     "text": [
      " 37%|███▋      | 53/145 [01:16<02:07,  1.39s/it]"
     ]
    },
    {
     "name": "stdout",
     "output_type": "stream",
     "text": [
      "Fetching data for site 01413088 at (42.29167, -74.55972)\n"
     ]
    },
    {
     "name": "stderr",
     "output_type": "stream",
     "text": [
      " 37%|███▋      | 54/145 [01:18<02:06,  1.39s/it]"
     ]
    },
    {
     "name": "stdout",
     "output_type": "stream",
     "text": [
      "Fetching data for site 01413398 at (42.150922, -74.601266)\n"
     ]
    },
    {
     "name": "stderr",
     "output_type": "stream",
     "text": [
      " 38%|███▊      | 55/145 [01:19<02:04,  1.38s/it]"
     ]
    },
    {
     "name": "stdout",
     "output_type": "stream",
     "text": [
      "Fetching data for site 01417000 at (42.075087, -74.976275)\n"
     ]
    },
    {
     "name": "stderr",
     "output_type": "stream",
     "text": [
      " 39%|███▊      | 56/145 [01:21<02:05,  1.42s/it]"
     ]
    },
    {
     "name": "stdout",
     "output_type": "stream",
     "text": [
      "Fetching data for site 01417500 at (42.024809, -75.11989)\n"
     ]
    },
    {
     "name": "stderr",
     "output_type": "stream",
     "text": [
      " 39%|███▉      | 57/145 [01:22<02:06,  1.44s/it]"
     ]
    },
    {
     "name": "stdout",
     "output_type": "stream",
     "text": [
      "Fetching data for site 01420500 at (41.946477, -74.979609)\n"
     ]
    },
    {
     "name": "stderr",
     "output_type": "stream",
     "text": [
      " 40%|████      | 58/145 [01:24<02:03,  1.42s/it]"
     ]
    },
    {
     "name": "stdout",
     "output_type": "stream",
     "text": [
      "Fetching data for site 01421000 at (41.973143, -75.174058)\n"
     ]
    },
    {
     "name": "stderr",
     "output_type": "stream",
     "text": [
      " 41%|████      | 59/145 [01:25<02:01,  1.41s/it]"
     ]
    },
    {
     "name": "stdout",
     "output_type": "stream",
     "text": [
      "Fetching data for site 01421610 at (42.37147, -74.669042)\n"
     ]
    },
    {
     "name": "stderr",
     "output_type": "stream",
     "text": [
      " 41%|████▏     | 60/145 [01:26<01:58,  1.39s/it]"
     ]
    },
    {
     "name": "stdout",
     "output_type": "stream",
     "text": [
      "Fetching data for site 01421900 at (42.280362, -74.907105)\n"
     ]
    },
    {
     "name": "stderr",
     "output_type": "stream",
     "text": [
      " 42%|████▏     | 61/145 [01:28<02:07,  1.52s/it]"
     ]
    },
    {
     "name": "stdout",
     "output_type": "stream",
     "text": [
      "Fetching data for site 01425000 at (42.074806, -75.396009)\n"
     ]
    },
    {
     "name": "stderr",
     "output_type": "stream",
     "text": [
      " 43%|████▎     | 62/145 [01:30<02:04,  1.50s/it]"
     ]
    },
    {
     "name": "stdout",
     "output_type": "stream",
     "text": [
      "Fetching data for site 01426500 at (42.00314, -75.383508)\n"
     ]
    },
    {
     "name": "stderr",
     "output_type": "stream",
     "text": [
      " 43%|████▎     | 63/145 [01:31<02:05,  1.53s/it]"
     ]
    },
    {
     "name": "stdout",
     "output_type": "stream",
     "text": [
      "Fetching data for site 01427500 at (41.760922, -75.048223)\n"
     ]
    },
    {
     "name": "stderr",
     "output_type": "stream",
     "text": [
      " 44%|████▍     | 64/145 [01:33<02:00,  1.49s/it]"
     ]
    },
    {
     "name": "stdout",
     "output_type": "stream",
     "text": [
      "Fetching data for site 01428000 at (41.564256, -75.015168)\n"
     ]
    },
    {
     "name": "stderr",
     "output_type": "stream",
     "text": [
      " 45%|████▍     | 65/145 [01:34<01:56,  1.46s/it]"
     ]
    },
    {
     "name": "stdout",
     "output_type": "stream",
     "text": [
      "Fetching data for site 01432900 at (41.668145, -74.780441)\n"
     ]
    },
    {
     "name": "stderr",
     "output_type": "stream",
     "text": [
      " 46%|████▌     | 66/145 [01:35<01:54,  1.45s/it]"
     ]
    },
    {
     "name": "stdout",
     "output_type": "stream",
     "text": [
      "Fetching data for site 01433500 at (41.461481, -74.758775)\n"
     ]
    },
    {
     "name": "stderr",
     "output_type": "stream",
     "text": [
      " 46%|████▌     | 67/145 [01:37<01:51,  1.43s/it]"
     ]
    },
    {
     "name": "stdout",
     "output_type": "stream",
     "text": [
      "Fetching data for site 01434498 at (41.920369, -74.574601)\n"
     ]
    },
    {
     "name": "stderr",
     "output_type": "stream",
     "text": [
      " 47%|████▋     | 68/145 [01:38<01:49,  1.42s/it]"
     ]
    },
    {
     "name": "stdout",
     "output_type": "stream",
     "text": [
      "Fetching data for site 01436000 at (41.820091, -74.635437)\n"
     ]
    },
    {
     "name": "stderr",
     "output_type": "stream",
     "text": [
      " 48%|████▊     | 69/145 [01:40<01:46,  1.40s/it]"
     ]
    },
    {
     "name": "stdout",
     "output_type": "stream",
     "text": [
      "Fetching data for site 01436690 at (41.638064, -74.616883)\n"
     ]
    },
    {
     "name": "stderr",
     "output_type": "stream",
     "text": [
      " 48%|████▊     | 70/145 [01:41<01:45,  1.40s/it]"
     ]
    },
    {
     "name": "stdout",
     "output_type": "stream",
     "text": [
      "Fetching data for site 01437500 at (41.441204, -74.601828)\n"
     ]
    },
    {
     "name": "stderr",
     "output_type": "stream",
     "text": [
      " 49%|████▉     | 71/145 [01:42<01:42,  1.39s/it]"
     ]
    },
    {
     "name": "stdout",
     "output_type": "stream",
     "text": [
      "Fetching data for site 01500000 at (42.333415, -75.234894)\n"
     ]
    },
    {
     "name": "stderr",
     "output_type": "stream",
     "text": [
      " 50%|████▉     | 72/145 [01:44<01:44,  1.43s/it]"
     ]
    },
    {
     "name": "stdout",
     "output_type": "stream",
     "text": [
      "Fetching data for site 01500500 at (42.32147, -75.316564)\n"
     ]
    },
    {
     "name": "stderr",
     "output_type": "stream",
     "text": [
      " 50%|█████     | 73/145 [01:45<01:42,  1.42s/it]"
     ]
    },
    {
     "name": "stdout",
     "output_type": "stream",
     "text": [
      "Fetching data for site 01503000 at (42.035355, -75.802968)\n"
     ]
    },
    {
     "name": "stderr",
     "output_type": "stream",
     "text": [
      " 51%|█████     | 74/145 [01:47<01:41,  1.43s/it]"
     ]
    },
    {
     "name": "stdout",
     "output_type": "stream",
     "text": [
      "Fetching data for site 01505000 at (42.678682, -75.510457)\n"
     ]
    },
    {
     "name": "stderr",
     "output_type": "stream",
     "text": [
      " 52%|█████▏    | 75/145 [01:48<01:46,  1.53s/it]"
     ]
    },
    {
     "name": "stdout",
     "output_type": "stream",
     "text": [
      "Fetching data for site 01507000 at (42.324519, -75.771304)\n"
     ]
    },
    {
     "name": "stderr",
     "output_type": "stream",
     "text": [
      " 52%|█████▏    | 76/145 [01:50<01:43,  1.50s/it]"
     ]
    },
    {
     "name": "stdout",
     "output_type": "stream",
     "text": [
      "Fetching data for site 01509000 at (42.602848, -76.159373)\n"
     ]
    },
    {
     "name": "stderr",
     "output_type": "stream",
     "text": [
      " 53%|█████▎    | 77/145 [01:52<01:52,  1.66s/it]"
     ]
    },
    {
     "name": "stdout",
     "output_type": "stream",
     "text": [
      "Fetching data for site 01512500 at (42.218131, -75.84825)\n"
     ]
    },
    {
     "name": "stderr",
     "output_type": "stream",
     "text": [
      " 54%|█████▍    | 78/145 [01:53<01:45,  1.57s/it]"
     ]
    },
    {
     "name": "stdout",
     "output_type": "stream",
     "text": [
      "Fetching data for site 01513831 at (42.097296, -76.266322)\n"
     ]
    },
    {
     "name": "stderr",
     "output_type": "stream",
     "text": [
      " 54%|█████▍    | 79/145 [01:55<01:40,  1.53s/it]"
     ]
    },
    {
     "name": "stdout",
     "output_type": "stream",
     "text": [
      "Fetching data for site 01520000 at (41.99674, -77.139972)\n"
     ]
    },
    {
     "name": "stderr",
     "output_type": "stream",
     "text": [
      " 55%|█████▌    | 80/145 [01:56<01:38,  1.52s/it]"
     ]
    },
    {
     "name": "stdout",
     "output_type": "stream",
     "text": [
      "Fetching data for site 01520500 at (42.028685, -77.132194)\n"
     ]
    },
    {
     "name": "stderr",
     "output_type": "stream",
     "text": [
      " 56%|█████▌    | 81/145 [01:58<01:36,  1.52s/it]"
     ]
    },
    {
     "name": "stdout",
     "output_type": "stream",
     "text": [
      "Fetching data for site 01521500 at (42.395902, -77.711382)\n"
     ]
    },
    {
     "name": "stderr",
     "output_type": "stream",
     "text": [
      " 57%|█████▋    | 82/145 [01:59<01:33,  1.49s/it]"
     ]
    },
    {
     "name": "stdout",
     "output_type": "stream",
     "text": [
      "Fetching data for site 01523500 at (42.334792, -77.683048)\n"
     ]
    },
    {
     "name": "stderr",
     "output_type": "stream",
     "text": [
      " 57%|█████▋    | 83/145 [02:01<01:36,  1.56s/it]"
     ]
    },
    {
     "name": "stdout",
     "output_type": "stream",
     "text": [
      "Fetching data for site 01524500 at (42.313959, -77.651102)\n"
     ]
    },
    {
     "name": "stderr",
     "output_type": "stream",
     "text": [
      " 58%|█████▊    | 84/145 [02:02<01:34,  1.55s/it]"
     ]
    },
    {
     "name": "stdout",
     "output_type": "stream",
     "text": [
      "Fetching data for site 01525500 at (42.222295, -77.417761)\n"
     ]
    },
    {
     "name": "stderr",
     "output_type": "stream",
     "text": [
      " 59%|█████▊    | 85/145 [02:04<01:31,  1.52s/it]"
     ]
    },
    {
     "name": "stdout",
     "output_type": "stream",
     "text": [
      "Fetching data for site 01526500 at (42.121185, -77.129138)\n"
     ]
    },
    {
     "name": "stderr",
     "output_type": "stream",
     "text": [
      " 59%|█████▉    | 86/145 [02:05<01:27,  1.49s/it]"
     ]
    },
    {
     "name": "stdout",
     "output_type": "stream",
     "text": [
      "Fetching data for site 01529500 at (42.252574, -77.216642)\n"
     ]
    },
    {
     "name": "stderr",
     "output_type": "stream",
     "text": [
      " 60%|██████    | 87/145 [02:07<01:24,  1.45s/it]"
     ]
    },
    {
     "name": "stdout",
     "output_type": "stream",
     "text": [
      "Fetching data for site 01529950 at (42.146463, -77.057468)\n"
     ]
    },
    {
     "name": "stderr",
     "output_type": "stream",
     "text": [
      " 61%|██████    | 88/145 [02:08<01:20,  1.41s/it]"
     ]
    },
    {
     "name": "stdout",
     "output_type": "stream",
     "text": [
      "Fetching data for site 03011020 at (42.156452, -78.715309)\n"
     ]
    },
    {
     "name": "stderr",
     "output_type": "stream",
     "text": [
      " 61%|██████▏   | 89/145 [02:10<01:27,  1.56s/it]"
     ]
    },
    {
     "name": "stdout",
     "output_type": "stream",
     "text": [
      "Fetching data for site 03014500 at (42.112558, -79.203936)\n"
     ]
    },
    {
     "name": "stderr",
     "output_type": "stream",
     "text": [
      " 62%|██████▏   | 90/145 [02:12<01:27,  1.59s/it]"
     ]
    },
    {
     "name": "stdout",
     "output_type": "stream",
     "text": [
      "Fetching data for site 04213500 at (42.46395, -78.935035)\n"
     ]
    },
    {
     "name": "stderr",
     "output_type": "stream",
     "text": [
      " 63%|██████▎   | 91/145 [02:13<01:24,  1.57s/it]"
     ]
    },
    {
     "name": "stdout",
     "output_type": "stream",
     "text": [
      "Fetching data for site 04214500 at (42.854781, -78.755031)\n"
     ]
    },
    {
     "name": "stderr",
     "output_type": "stream",
     "text": [
      " 63%|██████▎   | 92/145 [02:15<01:36,  1.82s/it]"
     ]
    },
    {
     "name": "stdout",
     "output_type": "stream",
     "text": [
      "Fetching data for site 04215000 at (42.890059, -78.645028)\n"
     ]
    },
    {
     "name": "stderr",
     "output_type": "stream",
     "text": [
      " 64%|██████▍   | 93/145 [02:17<01:28,  1.71s/it]"
     ]
    },
    {
     "name": "stdout",
     "output_type": "stream",
     "text": [
      "Fetching data for site 04215500 at (42.829781, -78.775031)\n"
     ]
    },
    {
     "name": "stderr",
     "output_type": "stream",
     "text": [
      " 65%|██████▍   | 94/145 [02:18<01:23,  1.63s/it]"
     ]
    },
    {
     "name": "stdout",
     "output_type": "stream",
     "text": [
      "Fetching data for site 04217000 at (42.99756, -78.188628)\n"
     ]
    },
    {
     "name": "stderr",
     "output_type": "stream",
     "text": [
      " 66%|██████▌   | 95/145 [02:20<01:18,  1.56s/it]"
     ]
    },
    {
     "name": "stdout",
     "output_type": "stream",
     "text": [
      "Fetching data for site 04218000 at (43.093113, -78.63614)\n"
     ]
    },
    {
     "name": "stderr",
     "output_type": "stream",
     "text": [
      " 66%|██████▌   | 96/145 [02:21<01:14,  1.53s/it]"
     ]
    },
    {
     "name": "stdout",
     "output_type": "stream",
     "text": [
      "Fetching data for site 04218518 at (42.977836, -78.763643)\n"
     ]
    },
    {
     "name": "stderr",
     "output_type": "stream",
     "text": [
      " 67%|██████▋   | 97/145 [02:23<01:12,  1.52s/it]"
     ]
    },
    {
     "name": "stdout",
     "output_type": "stream",
     "text": [
      "Fetching data for site 04223000 at (42.570341, -78.042228)\n"
     ]
    },
    {
     "name": "stderr",
     "output_type": "stream",
     "text": [
      " 68%|██████▊   | 98/145 [02:24<01:12,  1.54s/it]"
     ]
    },
    {
     "name": "stdout",
     "output_type": "stream",
     "text": [
      "Fetching data for site 04227000 at (42.737007, -77.840558)\n"
     ]
    },
    {
     "name": "stderr",
     "output_type": "stream",
     "text": [
      " 68%|██████▊   | 99/145 [02:26<01:12,  1.58s/it]"
     ]
    },
    {
     "name": "stdout",
     "output_type": "stream",
     "text": [
      "Fetching data for site 04227500 at (42.766729, -77.838892)\n"
     ]
    },
    {
     "name": "stderr",
     "output_type": "stream",
     "text": [
      " 69%|██████▉   | 100/145 [02:27<01:09,  1.55s/it]"
     ]
    },
    {
     "name": "stdout",
     "output_type": "stream",
     "text": [
      "Fetching data for site 04227995 at (42.85389, -77.71528)\n"
     ]
    },
    {
     "name": "stderr",
     "output_type": "stream",
     "text": [
      " 70%|██████▉   | 101/145 [02:29<01:07,  1.53s/it]"
     ]
    },
    {
     "name": "stdout",
     "output_type": "stream",
     "text": [
      "Fetching data for site 04228500 at (42.917841, -77.757226)\n"
     ]
    },
    {
     "name": "stderr",
     "output_type": "stream",
     "text": [
      " 70%|███████   | 102/145 [02:30<01:04,  1.50s/it]"
     ]
    },
    {
     "name": "stdout",
     "output_type": "stream",
     "text": [
      "Fetching data for site 04229500 at (42.957285, -77.588887)\n"
     ]
    },
    {
     "name": "stderr",
     "output_type": "stream",
     "text": [
      " 71%|███████   | 103/145 [02:32<01:02,  1.50s/it]"
     ]
    },
    {
     "name": "stdout",
     "output_type": "stream",
     "text": [
      "Fetching data for site 04230380 at (42.744228, -78.137511)\n"
     ]
    },
    {
     "name": "stderr",
     "output_type": "stream",
     "text": [
      " 72%|███████▏  | 104/145 [02:33<01:00,  1.48s/it]"
     ]
    },
    {
     "name": "stdout",
     "output_type": "stream",
     "text": [
      "Fetching data for site 04230500 at (43.010062, -77.791395)\n"
     ]
    },
    {
     "name": "stderr",
     "output_type": "stream",
     "text": [
      " 72%|███████▏  | 105/145 [02:35<00:58,  1.47s/it]"
     ]
    },
    {
     "name": "stdout",
     "output_type": "stream",
     "text": [
      "Fetching data for site 04231000 at (43.100617, -77.882232)\n"
     ]
    },
    {
     "name": "stderr",
     "output_type": "stream",
     "text": [
      " 73%|███████▎  | 106/145 [02:36<00:57,  1.48s/it]"
     ]
    },
    {
     "name": "stdout",
     "output_type": "stream",
     "text": [
      "Fetching data for site 04231600 at (43.141722, -77.616306)\n"
     ]
    },
    {
     "name": "stderr",
     "output_type": "stream",
     "text": [
      " 74%|███████▍  | 107/145 [02:38<00:57,  1.52s/it]"
     ]
    },
    {
     "name": "stdout",
     "output_type": "stream",
     "text": [
      "Fetching data for site 04232034 at (43.027841, -77.47805)\n"
     ]
    },
    {
     "name": "stderr",
     "output_type": "stream",
     "text": [
      " 74%|███████▍  | 108/145 [02:39<00:54,  1.48s/it]"
     ]
    },
    {
     "name": "stdout",
     "output_type": "stream",
     "text": [
      "Fetching data for site 04232050 at (43.130341, -77.518608)\n"
     ]
    },
    {
     "name": "stderr",
     "output_type": "stream",
     "text": [
      " 75%|███████▌  | 109/145 [02:41<00:52,  1.46s/it]"
     ]
    },
    {
     "name": "stdout",
     "output_type": "stream",
     "text": [
      "Fetching data for site 04232482 at (42.680348, -76.953852)\n"
     ]
    },
    {
     "name": "stderr",
     "output_type": "stream",
     "text": [
      " 76%|███████▌  | 110/145 [02:42<00:51,  1.47s/it]"
     ]
    },
    {
     "name": "stdout",
     "output_type": "stream",
     "text": [
      "Fetching data for site 04234000 at (42.453406, -76.472717)\n"
     ]
    },
    {
     "name": "stderr",
     "output_type": "stream",
     "text": [
      " 77%|███████▋  | 111/145 [02:44<00:49,  1.46s/it]"
     ]
    },
    {
     "name": "stdout",
     "output_type": "stream",
     "text": [
      "Fetching data for site 04235250 at (42.957842, -77.068027)\n"
     ]
    },
    {
     "name": "stderr",
     "output_type": "stream",
     "text": [
      " 77%|███████▋  | 112/145 [02:45<00:47,  1.45s/it]"
     ]
    },
    {
     "name": "stdout",
     "output_type": "stream",
     "text": [
      "Fetching data for site 04237500 at (43.157012, -76.331598)\n"
     ]
    },
    {
     "name": "stderr",
     "output_type": "stream",
     "text": [
      " 78%|███████▊  | 113/145 [02:46<00:45,  1.42s/it]"
     ]
    },
    {
     "name": "stdout",
     "output_type": "stream",
     "text": [
      "Fetching data for site 04239000 at (42.983399, -76.150758)\n"
     ]
    },
    {
     "name": "stderr",
     "output_type": "stream",
     "text": [
      " 79%|███████▊  | 114/145 [02:48<00:43,  1.42s/it]"
     ]
    },
    {
     "name": "stdout",
     "output_type": "stream",
     "text": [
      "Fetching data for site 04240010 at (43.057567, -76.162425)\n"
     ]
    },
    {
     "name": "stderr",
     "output_type": "stream",
     "text": [
      " 79%|███████▉  | 115/145 [02:49<00:41,  1.39s/it]"
     ]
    },
    {
     "name": "stdout",
     "output_type": "stream",
     "text": [
      "Fetching data for site 04240100 at (43.0359, -76.181592)\n"
     ]
    },
    {
     "name": "stderr",
     "output_type": "stream",
     "text": [
      " 80%|████████  | 116/145 [02:50<00:40,  1.40s/it]"
     ]
    },
    {
     "name": "stdout",
     "output_type": "stream",
     "text": [
      "Fetching data for site 04240120 at (43.077289, -76.170203)\n"
     ]
    },
    {
     "name": "stderr",
     "output_type": "stream",
     "text": [
      " 81%|████████  | 117/145 [02:52<00:38,  1.38s/it]"
     ]
    },
    {
     "name": "stdout",
     "output_type": "stream",
     "text": [
      "Fetching data for site 04240180 at (42.9209, -76.329376)\n"
     ]
    },
    {
     "name": "stderr",
     "output_type": "stream",
     "text": [
      " 81%|████████▏ | 118/145 [02:53<00:37,  1.40s/it]"
     ]
    },
    {
     "name": "stdout",
     "output_type": "stream",
     "text": [
      "Fetching data for site 04240300 at (43.0809, -76.226316)\n"
     ]
    },
    {
     "name": "stderr",
     "output_type": "stream",
     "text": [
      " 82%|████████▏ | 119/145 [02:55<00:35,  1.38s/it]"
     ]
    },
    {
     "name": "stdout",
     "output_type": "stream",
     "text": [
      "Fetching data for site 04242500 at (43.301736, -75.618793)\n"
     ]
    },
    {
     "name": "stderr",
     "output_type": "stream",
     "text": [
      " 83%|████████▎ | 120/145 [02:56<00:34,  1.38s/it]"
     ]
    },
    {
     "name": "stdout",
     "output_type": "stream",
     "text": [
      "Fetching data for site 04243500 at (43.097569, -75.63907)\n"
     ]
    },
    {
     "name": "stderr",
     "output_type": "stream",
     "text": [
      " 83%|████████▎ | 121/145 [02:57<00:33,  1.40s/it]"
     ]
    },
    {
     "name": "stdout",
     "output_type": "stream",
     "text": [
      "Fetching data for site 04247000 at (43.205068, -76.217705)\n"
     ]
    },
    {
     "name": "stderr",
     "output_type": "stream",
     "text": [
      " 84%|████████▍ | 122/145 [02:59<00:31,  1.39s/it]"
     ]
    },
    {
     "name": "stdout",
     "output_type": "stream",
     "text": [
      "Fetching data for site 04249000 at (43.451735, -76.505219)\n"
     ]
    },
    {
     "name": "stderr",
     "output_type": "stream",
     "text": [
      " 85%|████████▍ | 123/145 [03:00<00:30,  1.38s/it]"
     ]
    },
    {
     "name": "stdout",
     "output_type": "stream",
     "text": [
      "Fetching data for site 04250200 at (43.533403, -76.038533)\n"
     ]
    },
    {
     "name": "stderr",
     "output_type": "stream",
     "text": [
      " 86%|████████▌ | 124/145 [03:02<00:29,  1.39s/it]"
     ]
    },
    {
     "name": "stdout",
     "output_type": "stream",
     "text": [
      "Fetching data for site 04250750 at (43.813398, -76.074646)\n"
     ]
    },
    {
     "name": "stderr",
     "output_type": "stream",
     "text": [
      " 86%|████████▌ | 125/145 [03:03<00:27,  1.38s/it]"
     ]
    },
    {
     "name": "stdout",
     "output_type": "stream",
     "text": [
      "Fetching data for site 04252500 at (43.511736, -75.30656)\n"
     ]
    },
    {
     "name": "stderr",
     "output_type": "stream",
     "text": [
      " 87%|████████▋ | 126/145 [03:04<00:26,  1.37s/it]"
     ]
    },
    {
     "name": "stdout",
     "output_type": "stream",
     "text": [
      "Fetching data for site 04258000 at (43.897291, -75.404075)\n"
     ]
    },
    {
     "name": "stderr",
     "output_type": "stream",
     "text": [
      " 88%|████████▊ | 127/145 [03:06<00:24,  1.37s/it]"
     ]
    },
    {
     "name": "stdout",
     "output_type": "stream",
     "text": [
      "Fetching data for site 04260500 at (43.985616, -75.924646)\n"
     ]
    },
    {
     "name": "stderr",
     "output_type": "stream",
     "text": [
      " 88%|████████▊ | 128/145 [03:07<00:23,  1.36s/it]"
     ]
    },
    {
     "name": "stdout",
     "output_type": "stream",
     "text": [
      "Fetching data for site 04262000 at (44.222562, -75.074365)\n"
     ]
    },
    {
     "name": "stderr",
     "output_type": "stream",
     "text": [
      " 89%|████████▉ | 129/145 [03:09<00:22,  1.43s/it]"
     ]
    },
    {
     "name": "stdout",
     "output_type": "stream",
     "text": [
      "Fetching data for site 04262500 at (44.185619, -75.330759)\n"
     ]
    },
    {
     "name": "stderr",
     "output_type": "stream",
     "text": [
      " 90%|████████▉ | 130/145 [03:10<00:22,  1.48s/it]"
     ]
    },
    {
     "name": "stdout",
     "output_type": "stream",
     "text": [
      "Fetching data for site 04263000 at (44.599506, -75.378829)\n"
     ]
    },
    {
     "name": "stderr",
     "output_type": "stream",
     "text": [
      " 90%|█████████ | 131/145 [03:12<00:20,  1.46s/it]"
     ]
    },
    {
     "name": "stdout",
     "output_type": "stream",
     "text": [
      "Fetching data for site 04266500 at (44.234783, -74.571841)\n"
     ]
    },
    {
     "name": "stderr",
     "output_type": "stream",
     "text": [
      " 91%|█████████ | 132/145 [03:13<00:19,  1.47s/it]"
     ]
    },
    {
     "name": "stdout",
     "output_type": "stream",
     "text": [
      "Fetching data for site 04267500 at (44.51173, -74.882972)\n"
     ]
    },
    {
     "name": "stderr",
     "output_type": "stream",
     "text": [
      " 92%|█████████▏| 133/145 [03:15<00:17,  1.46s/it]"
     ]
    },
    {
     "name": "stdout",
     "output_type": "stream",
     "text": [
      "Fetching data for site 04268000 at (44.838941, -74.978813)\n"
     ]
    },
    {
     "name": "stderr",
     "output_type": "stream",
     "text": [
      " 92%|█████████▏| 134/145 [03:16<00:16,  1.46s/it]"
     ]
    },
    {
     "name": "stdout",
     "output_type": "stream",
     "text": [
      "Fetching data for site 04269000 at (44.863664, -74.778801)\n"
     ]
    },
    {
     "name": "stderr",
     "output_type": "stream",
     "text": [
      " 93%|█████████▎| 135/145 [03:18<00:14,  1.47s/it]"
     ]
    },
    {
     "name": "stdout",
     "output_type": "stream",
     "text": [
      "Fetching data for site 04270000 at (44.756161, -74.218771)\n"
     ]
    },
    {
     "name": "stderr",
     "output_type": "stream",
     "text": [
      " 94%|█████████▍| 136/145 [03:19<00:13,  1.46s/it]"
     ]
    },
    {
     "name": "stdout",
     "output_type": "stream",
     "text": [
      "Fetching data for site 04270200 at (44.940045, -74.556299)\n"
     ]
    },
    {
     "name": "stderr",
     "output_type": "stream",
     "text": [
      " 94%|█████████▍| 137/145 [03:20<00:11,  1.45s/it]"
     ]
    },
    {
     "name": "stdout",
     "output_type": "stream",
     "text": [
      "Fetching data for site 04271500 at (45.000038, -73.500972)\n"
     ]
    },
    {
     "name": "stderr",
     "output_type": "stream",
     "text": [
      " 95%|█████████▌| 138/145 [03:22<00:10,  1.54s/it]"
     ]
    },
    {
     "name": "stdout",
     "output_type": "stream",
     "text": [
      "Fetching data for site 04271815 at (44.902262, -73.415135)\n"
     ]
    },
    {
     "name": "stderr",
     "output_type": "stream",
     "text": [
      " 96%|█████████▌| 139/145 [03:24<00:09,  1.53s/it]"
     ]
    },
    {
     "name": "stdout",
     "output_type": "stream",
     "text": [
      "Fetching data for site 04273500 at (44.68171, -73.471246)\n"
     ]
    },
    {
     "name": "stderr",
     "output_type": "stream",
     "text": [
      " 97%|█████████▋| 140/145 [03:25<00:07,  1.49s/it]"
     ]
    },
    {
     "name": "stdout",
     "output_type": "stream",
     "text": [
      "Fetching data for site 04275000 at (44.438936, -73.681528)\n"
     ]
    },
    {
     "name": "stderr",
     "output_type": "stream",
     "text": [
      " 97%|█████████▋| 141/145 [03:27<00:06,  1.51s/it]"
     ]
    },
    {
     "name": "stdout",
     "output_type": "stream",
     "text": [
      "Fetching data for site 04275500 at (44.451436, -73.642638)\n"
     ]
    },
    {
     "name": "stderr",
     "output_type": "stream",
     "text": [
      " 98%|█████████▊| 142/145 [03:28<00:04,  1.49s/it]"
     ]
    },
    {
     "name": "stdout",
     "output_type": "stream",
     "text": [
      "Fetching data for site 04276500 at (44.358383, -73.396797)\n"
     ]
    },
    {
     "name": "stderr",
     "output_type": "stream",
     "text": [
      " 99%|█████████▊| 143/145 [03:29<00:02,  1.49s/it]"
     ]
    },
    {
     "name": "stdout",
     "output_type": "stream",
     "text": [
      "Fetching data for site 04279000 at (43.843949, -73.432064)\n"
     ]
    },
    {
     "name": "stderr",
     "output_type": "stream",
     "text": [
      " 99%|█████████▉| 144/145 [03:32<00:01,  1.66s/it]"
     ]
    },
    {
     "name": "stdout",
     "output_type": "stream",
     "text": [
      "Fetching data for site 04280450 at (43.463959, -73.284276)\n"
     ]
    },
    {
     "name": "stderr",
     "output_type": "stream",
     "text": [
      "100%|██████████| 145/145 [03:33<00:00,  1.47s/it]\n"
     ]
    },
    {
     "name": "stdout",
     "output_type": "stream",
     "text": [
      "     year  yday  prcp (mm/day)        lat        lon   site_id\n",
      "0  1980.0   1.0            0.0  41.658983 -73.528458  01200000\n",
      "1  1980.0   2.0            0.0  41.658983 -73.528458  01200000\n",
      "2  1980.0   3.0            0.0  41.658983 -73.528458  01200000\n",
      "3  1980.0   4.0            0.0  41.658983 -73.528458  01200000\n",
      "4  1980.0   5.0            0.0  41.658983 -73.528458  01200000\n"
     ]
    }
   ],
   "source": [
    "# List to store all results\n",
    "all_results = []\n",
    "\n",
    "# Loop through each row in gages_df\n",
    "for _, row in tqdm(gages_df.iterrows(), total=len(gages_df)):\n",
    "    lat, lon = row[\"LAT_GAGE\"], row[\"LNG_GAGE\"]  # Ensure column names match your DataFrame\n",
    "    site_id = row[\"STAID\"]\n",
    "    \n",
    "    print(f\"Fetching data for site {site_id} at ({lat}, {lon})\")\n",
    "    \n",
    "    # Get precipitation data from Daymet\n",
    "    df = get_daymet_data(lat, lon)\n",
    "    \n",
    "    if df is not None:\n",
    "        df[\"site_id\"] = site_id  # Add site ID for reference\n",
    "        all_results.append(df)\n",
    "\n",
    "    time.sleep(1)  # Add delay to avoid API rate limits\n",
    "\n",
    "# Combine all results into one DataFrame\n",
    "final_df = pd.concat(all_results, ignore_index=True)\n",
    "\n",
    "# Save to CSV\n",
    "final_df.to_csv(\"daymet_gages_precip.csv\", index=False)\n",
    "\n",
    "# Display first few rows\n",
    "print(final_df.head())\n"
   ]
  },
  {
   "cell_type": "markdown",
   "metadata": {},
   "source": [
    "If you don't want to run the above again:"
   ]
  },
  {
   "cell_type": "code",
   "execution_count": 74,
   "metadata": {},
   "outputs": [
    {
     "data": {
      "text/html": [
       "<div>\n",
       "<style scoped>\n",
       "    .dataframe tbody tr th:only-of-type {\n",
       "        vertical-align: middle;\n",
       "    }\n",
       "\n",
       "    .dataframe tbody tr th {\n",
       "        vertical-align: top;\n",
       "    }\n",
       "\n",
       "    .dataframe thead th {\n",
       "        text-align: right;\n",
       "    }\n",
       "</style>\n",
       "<table border=\"1\" class=\"dataframe\">\n",
       "  <thead>\n",
       "    <tr style=\"text-align: right;\">\n",
       "      <th></th>\n",
       "      <th>year</th>\n",
       "      <th>yday</th>\n",
       "      <th>prcp (mm/day)</th>\n",
       "      <th>lat</th>\n",
       "      <th>lon</th>\n",
       "      <th>site_id</th>\n",
       "    </tr>\n",
       "  </thead>\n",
       "  <tbody>\n",
       "    <tr>\n",
       "      <th>0</th>\n",
       "      <td>1980.0</td>\n",
       "      <td>1.0</td>\n",
       "      <td>0.00</td>\n",
       "      <td>41.658983</td>\n",
       "      <td>-73.528458</td>\n",
       "      <td>01200000</td>\n",
       "    </tr>\n",
       "    <tr>\n",
       "      <th>1</th>\n",
       "      <td>1980.0</td>\n",
       "      <td>2.0</td>\n",
       "      <td>0.00</td>\n",
       "      <td>41.658983</td>\n",
       "      <td>-73.528458</td>\n",
       "      <td>01200000</td>\n",
       "    </tr>\n",
       "    <tr>\n",
       "      <th>2</th>\n",
       "      <td>1980.0</td>\n",
       "      <td>3.0</td>\n",
       "      <td>0.00</td>\n",
       "      <td>41.658983</td>\n",
       "      <td>-73.528458</td>\n",
       "      <td>01200000</td>\n",
       "    </tr>\n",
       "    <tr>\n",
       "      <th>3</th>\n",
       "      <td>1980.0</td>\n",
       "      <td>4.0</td>\n",
       "      <td>0.00</td>\n",
       "      <td>41.658983</td>\n",
       "      <td>-73.528458</td>\n",
       "      <td>01200000</td>\n",
       "    </tr>\n",
       "    <tr>\n",
       "      <th>4</th>\n",
       "      <td>1980.0</td>\n",
       "      <td>5.0</td>\n",
       "      <td>0.00</td>\n",
       "      <td>41.658983</td>\n",
       "      <td>-73.528458</td>\n",
       "      <td>01200000</td>\n",
       "    </tr>\n",
       "    <tr>\n",
       "      <th>...</th>\n",
       "      <td>...</td>\n",
       "      <td>...</td>\n",
       "      <td>...</td>\n",
       "      <td>...</td>\n",
       "      <td>...</td>\n",
       "      <td>...</td>\n",
       "    </tr>\n",
       "    <tr>\n",
       "      <th>2328695</th>\n",
       "      <td>2023.0</td>\n",
       "      <td>361.0</td>\n",
       "      <td>6.19</td>\n",
       "      <td>43.463959</td>\n",
       "      <td>-73.284276</td>\n",
       "      <td>04280450</td>\n",
       "    </tr>\n",
       "    <tr>\n",
       "      <th>2328696</th>\n",
       "      <td>2023.0</td>\n",
       "      <td>362.0</td>\n",
       "      <td>2.43</td>\n",
       "      <td>43.463959</td>\n",
       "      <td>-73.284276</td>\n",
       "      <td>04280450</td>\n",
       "    </tr>\n",
       "    <tr>\n",
       "      <th>2328697</th>\n",
       "      <td>2023.0</td>\n",
       "      <td>363.0</td>\n",
       "      <td>5.67</td>\n",
       "      <td>43.463959</td>\n",
       "      <td>-73.284276</td>\n",
       "      <td>04280450</td>\n",
       "    </tr>\n",
       "    <tr>\n",
       "      <th>2328698</th>\n",
       "      <td>2023.0</td>\n",
       "      <td>364.0</td>\n",
       "      <td>1.37</td>\n",
       "      <td>43.463959</td>\n",
       "      <td>-73.284276</td>\n",
       "      <td>04280450</td>\n",
       "    </tr>\n",
       "    <tr>\n",
       "      <th>2328699</th>\n",
       "      <td>2023.0</td>\n",
       "      <td>365.0</td>\n",
       "      <td>0.00</td>\n",
       "      <td>43.463959</td>\n",
       "      <td>-73.284276</td>\n",
       "      <td>04280450</td>\n",
       "    </tr>\n",
       "  </tbody>\n",
       "</table>\n",
       "<p>2328700 rows × 6 columns</p>\n",
       "</div>"
      ],
      "text/plain": [
       "           year   yday  prcp (mm/day)        lat        lon   site_id\n",
       "0        1980.0    1.0           0.00  41.658983 -73.528458  01200000\n",
       "1        1980.0    2.0           0.00  41.658983 -73.528458  01200000\n",
       "2        1980.0    3.0           0.00  41.658983 -73.528458  01200000\n",
       "3        1980.0    4.0           0.00  41.658983 -73.528458  01200000\n",
       "4        1980.0    5.0           0.00  41.658983 -73.528458  01200000\n",
       "...         ...    ...            ...        ...        ...       ...\n",
       "2328695  2023.0  361.0           6.19  43.463959 -73.284276  04280450\n",
       "2328696  2023.0  362.0           2.43  43.463959 -73.284276  04280450\n",
       "2328697  2023.0  363.0           5.67  43.463959 -73.284276  04280450\n",
       "2328698  2023.0  364.0           1.37  43.463959 -73.284276  04280450\n",
       "2328699  2023.0  365.0           0.00  43.463959 -73.284276  04280450\n",
       "\n",
       "[2328700 rows x 6 columns]"
      ]
     },
     "execution_count": 74,
     "metadata": {},
     "output_type": "execute_result"
    }
   ],
   "source": [
    "daymet = pd.read_csv(\"daymet_gages_precip.csv\", dtype={'site_id': str})\n",
    "daymet"
   ]
  },
  {
   "cell_type": "code",
   "execution_count": null,
   "metadata": {},
   "outputs": [
    {
     "data": {
      "text/html": [
       "<div>\n",
       "<style scoped>\n",
       "    .dataframe tbody tr th:only-of-type {\n",
       "        vertical-align: middle;\n",
       "    }\n",
       "\n",
       "    .dataframe tbody tr th {\n",
       "        vertical-align: top;\n",
       "    }\n",
       "\n",
       "    .dataframe thead th {\n",
       "        text-align: right;\n",
       "    }\n",
       "</style>\n",
       "<table border=\"1\" class=\"dataframe\">\n",
       "  <thead>\n",
       "    <tr style=\"text-align: right;\">\n",
       "      <th></th>\n",
       "      <th>year</th>\n",
       "      <th>yday</th>\n",
       "      <th>prcp (mm/day)</th>\n",
       "      <th>lat</th>\n",
       "      <th>lon</th>\n",
       "      <th>site_id</th>\n",
       "    </tr>\n",
       "  </thead>\n",
       "  <tbody>\n",
       "    <tr>\n",
       "      <th>12045</th>\n",
       "      <td>2013.0</td>\n",
       "      <td>1.0</td>\n",
       "      <td>0.00</td>\n",
       "      <td>41.658983</td>\n",
       "      <td>-73.528458</td>\n",
       "      <td>01200000</td>\n",
       "    </tr>\n",
       "    <tr>\n",
       "      <th>12046</th>\n",
       "      <td>2013.0</td>\n",
       "      <td>2.0</td>\n",
       "      <td>0.00</td>\n",
       "      <td>41.658983</td>\n",
       "      <td>-73.528458</td>\n",
       "      <td>01200000</td>\n",
       "    </tr>\n",
       "    <tr>\n",
       "      <th>12047</th>\n",
       "      <td>2013.0</td>\n",
       "      <td>3.0</td>\n",
       "      <td>0.00</td>\n",
       "      <td>41.658983</td>\n",
       "      <td>-73.528458</td>\n",
       "      <td>01200000</td>\n",
       "    </tr>\n",
       "    <tr>\n",
       "      <th>12048</th>\n",
       "      <td>2013.0</td>\n",
       "      <td>4.0</td>\n",
       "      <td>0.00</td>\n",
       "      <td>41.658983</td>\n",
       "      <td>-73.528458</td>\n",
       "      <td>01200000</td>\n",
       "    </tr>\n",
       "    <tr>\n",
       "      <th>12049</th>\n",
       "      <td>2013.0</td>\n",
       "      <td>5.0</td>\n",
       "      <td>0.00</td>\n",
       "      <td>41.658983</td>\n",
       "      <td>-73.528458</td>\n",
       "      <td>01200000</td>\n",
       "    </tr>\n",
       "    <tr>\n",
       "      <th>...</th>\n",
       "      <td>...</td>\n",
       "      <td>...</td>\n",
       "      <td>...</td>\n",
       "      <td>...</td>\n",
       "      <td>...</td>\n",
       "      <td>...</td>\n",
       "    </tr>\n",
       "    <tr>\n",
       "      <th>2328695</th>\n",
       "      <td>2023.0</td>\n",
       "      <td>361.0</td>\n",
       "      <td>6.19</td>\n",
       "      <td>43.463959</td>\n",
       "      <td>-73.284276</td>\n",
       "      <td>04280450</td>\n",
       "    </tr>\n",
       "    <tr>\n",
       "      <th>2328696</th>\n",
       "      <td>2023.0</td>\n",
       "      <td>362.0</td>\n",
       "      <td>2.43</td>\n",
       "      <td>43.463959</td>\n",
       "      <td>-73.284276</td>\n",
       "      <td>04280450</td>\n",
       "    </tr>\n",
       "    <tr>\n",
       "      <th>2328697</th>\n",
       "      <td>2023.0</td>\n",
       "      <td>363.0</td>\n",
       "      <td>5.67</td>\n",
       "      <td>43.463959</td>\n",
       "      <td>-73.284276</td>\n",
       "      <td>04280450</td>\n",
       "    </tr>\n",
       "    <tr>\n",
       "      <th>2328698</th>\n",
       "      <td>2023.0</td>\n",
       "      <td>364.0</td>\n",
       "      <td>1.37</td>\n",
       "      <td>43.463959</td>\n",
       "      <td>-73.284276</td>\n",
       "      <td>04280450</td>\n",
       "    </tr>\n",
       "    <tr>\n",
       "      <th>2328699</th>\n",
       "      <td>2023.0</td>\n",
       "      <td>365.0</td>\n",
       "      <td>0.00</td>\n",
       "      <td>43.463959</td>\n",
       "      <td>-73.284276</td>\n",
       "      <td>04280450</td>\n",
       "    </tr>\n",
       "  </tbody>\n",
       "</table>\n",
       "<p>582175 rows × 6 columns</p>\n",
       "</div>"
      ],
      "text/plain": [
       "           year   yday  prcp (mm/day)        lat        lon   site_id\n",
       "12045    2013.0    1.0           0.00  41.658983 -73.528458  01200000\n",
       "12046    2013.0    2.0           0.00  41.658983 -73.528458  01200000\n",
       "12047    2013.0    3.0           0.00  41.658983 -73.528458  01200000\n",
       "12048    2013.0    4.0           0.00  41.658983 -73.528458  01200000\n",
       "12049    2013.0    5.0           0.00  41.658983 -73.528458  01200000\n",
       "...         ...    ...            ...        ...        ...       ...\n",
       "2328695  2023.0  361.0           6.19  43.463959 -73.284276  04280450\n",
       "2328696  2023.0  362.0           2.43  43.463959 -73.284276  04280450\n",
       "2328697  2023.0  363.0           5.67  43.463959 -73.284276  04280450\n",
       "2328698  2023.0  364.0           1.37  43.463959 -73.284276  04280450\n",
       "2328699  2023.0  365.0           0.00  43.463959 -73.284276  04280450\n",
       "\n",
       "[582175 rows x 6 columns]"
      ]
     },
     "execution_count": 84,
     "metadata": {},
     "output_type": "execute_result"
    }
   ],
   "source": [
    "# Slice the DataFrame from that index onward\n",
    "daymet2 = daymet.loc[daymet['year']>=2013,:]\n",
    "daymet2"
   ]
  },
  {
   "cell_type": "code",
   "execution_count": 85,
   "metadata": {},
   "outputs": [
    {
     "data": {
      "text/html": [
       "<div>\n",
       "<style scoped>\n",
       "    .dataframe tbody tr th:only-of-type {\n",
       "        vertical-align: middle;\n",
       "    }\n",
       "\n",
       "    .dataframe tbody tr th {\n",
       "        vertical-align: top;\n",
       "    }\n",
       "\n",
       "    .dataframe thead th {\n",
       "        text-align: right;\n",
       "    }\n",
       "</style>\n",
       "<table border=\"1\" class=\"dataframe\">\n",
       "  <thead>\n",
       "    <tr style=\"text-align: right;\">\n",
       "      <th></th>\n",
       "      <th>year</th>\n",
       "      <th>yday</th>\n",
       "      <th>prcp (mm/day)</th>\n",
       "      <th>lat</th>\n",
       "      <th>lon</th>\n",
       "      <th>site_id</th>\n",
       "    </tr>\n",
       "  </thead>\n",
       "  <tbody>\n",
       "    <tr>\n",
       "      <th>0</th>\n",
       "      <td>2013.0</td>\n",
       "      <td>1.0</td>\n",
       "      <td>0.00</td>\n",
       "      <td>41.658983</td>\n",
       "      <td>-73.528458</td>\n",
       "      <td>01200000</td>\n",
       "    </tr>\n",
       "    <tr>\n",
       "      <th>1</th>\n",
       "      <td>2013.0</td>\n",
       "      <td>2.0</td>\n",
       "      <td>0.00</td>\n",
       "      <td>41.658983</td>\n",
       "      <td>-73.528458</td>\n",
       "      <td>01200000</td>\n",
       "    </tr>\n",
       "    <tr>\n",
       "      <th>2</th>\n",
       "      <td>2013.0</td>\n",
       "      <td>3.0</td>\n",
       "      <td>0.00</td>\n",
       "      <td>41.658983</td>\n",
       "      <td>-73.528458</td>\n",
       "      <td>01200000</td>\n",
       "    </tr>\n",
       "    <tr>\n",
       "      <th>3</th>\n",
       "      <td>2013.0</td>\n",
       "      <td>4.0</td>\n",
       "      <td>0.00</td>\n",
       "      <td>41.658983</td>\n",
       "      <td>-73.528458</td>\n",
       "      <td>01200000</td>\n",
       "    </tr>\n",
       "    <tr>\n",
       "      <th>4</th>\n",
       "      <td>2013.0</td>\n",
       "      <td>5.0</td>\n",
       "      <td>0.00</td>\n",
       "      <td>41.658983</td>\n",
       "      <td>-73.528458</td>\n",
       "      <td>01200000</td>\n",
       "    </tr>\n",
       "    <tr>\n",
       "      <th>...</th>\n",
       "      <td>...</td>\n",
       "      <td>...</td>\n",
       "      <td>...</td>\n",
       "      <td>...</td>\n",
       "      <td>...</td>\n",
       "      <td>...</td>\n",
       "    </tr>\n",
       "    <tr>\n",
       "      <th>3505090</th>\n",
       "      <td>2023.0</td>\n",
       "      <td>361.0</td>\n",
       "      <td>6.19</td>\n",
       "      <td>43.463959</td>\n",
       "      <td>-73.284276</td>\n",
       "      <td>04280450</td>\n",
       "    </tr>\n",
       "    <tr>\n",
       "      <th>3505091</th>\n",
       "      <td>2023.0</td>\n",
       "      <td>362.0</td>\n",
       "      <td>2.43</td>\n",
       "      <td>43.463959</td>\n",
       "      <td>-73.284276</td>\n",
       "      <td>04280450</td>\n",
       "    </tr>\n",
       "    <tr>\n",
       "      <th>3505092</th>\n",
       "      <td>2023.0</td>\n",
       "      <td>363.0</td>\n",
       "      <td>5.67</td>\n",
       "      <td>43.463959</td>\n",
       "      <td>-73.284276</td>\n",
       "      <td>04280450</td>\n",
       "    </tr>\n",
       "    <tr>\n",
       "      <th>3505093</th>\n",
       "      <td>2023.0</td>\n",
       "      <td>364.0</td>\n",
       "      <td>1.37</td>\n",
       "      <td>43.463959</td>\n",
       "      <td>-73.284276</td>\n",
       "      <td>04280450</td>\n",
       "    </tr>\n",
       "    <tr>\n",
       "      <th>3505094</th>\n",
       "      <td>2023.0</td>\n",
       "      <td>365.0</td>\n",
       "      <td>0.00</td>\n",
       "      <td>43.463959</td>\n",
       "      <td>-73.284276</td>\n",
       "      <td>04280450</td>\n",
       "    </tr>\n",
       "  </tbody>\n",
       "</table>\n",
       "<p>582175 rows × 6 columns</p>\n",
       "</div>"
      ],
      "text/plain": [
       "           year   yday  prcp (mm/day)        lat        lon   site_id\n",
       "0        2013.0    1.0           0.00  41.658983 -73.528458  01200000\n",
       "1        2013.0    2.0           0.00  41.658983 -73.528458  01200000\n",
       "2        2013.0    3.0           0.00  41.658983 -73.528458  01200000\n",
       "3        2013.0    4.0           0.00  41.658983 -73.528458  01200000\n",
       "4        2013.0    5.0           0.00  41.658983 -73.528458  01200000\n",
       "...         ...    ...            ...        ...        ...       ...\n",
       "3505090  2023.0  361.0           6.19  43.463959 -73.284276  04280450\n",
       "3505091  2023.0  362.0           2.43  43.463959 -73.284276  04280450\n",
       "3505092  2023.0  363.0           5.67  43.463959 -73.284276  04280450\n",
       "3505093  2023.0  364.0           1.37  43.463959 -73.284276  04280450\n",
       "3505094  2023.0  365.0           0.00  43.463959 -73.284276  04280450\n",
       "\n",
       "[582175 rows x 6 columns]"
      ]
     },
     "execution_count": 85,
     "metadata": {},
     "output_type": "execute_result"
    }
   ],
   "source": [
    "# Get the list of site IDs in results_df\n",
    "valid_site_ids = set(results_df['STAID'].unique())\n",
    "\n",
    "# Keep only the rows in filtered_df that have matching site_ids in results_df\n",
    "filtered_df1 = filtered_df[filtered_df['site_id'].isin(valid_site_ids)].copy()\n",
    "filtered_df2 = filtered_df1.loc[filtered_df1['year']>=2013,:]\n",
    "\n",
    "filtered_df2"
   ]
  },
  {
   "cell_type": "markdown",
   "metadata": {},
   "source": [
    "Note: If we want to use the same 149 stations, we need to take out the 4 stations from the filtered_df dataset that have no daily flow data"
   ]
  },
  {
   "cell_type": "markdown",
   "metadata": {},
   "source": [
    "Need to turn the flow dataset from row based lists to columns.\n",
    "\n",
    " Data from USGS and Daymet do different things with leap years- USGS has extra rows of data, so add NaN values to the USGS data (flow)"
   ]
  },
  {
   "cell_type": "code",
   "execution_count": null,
   "metadata": {},
   "outputs": [
    {
     "data": {
      "text/html": [
       "<div>\n",
       "<style scoped>\n",
       "    .dataframe tbody tr th:only-of-type {\n",
       "        vertical-align: middle;\n",
       "    }\n",
       "\n",
       "    .dataframe tbody tr th {\n",
       "        vertical-align: top;\n",
       "    }\n",
       "\n",
       "    .dataframe thead th {\n",
       "        text-align: right;\n",
       "    }\n",
       "</style>\n",
       "<table border=\"1\" class=\"dataframe\">\n",
       "  <thead>\n",
       "    <tr style=\"text-align: right;\">\n",
       "      <th></th>\n",
       "      <th>year</th>\n",
       "      <th>yday</th>\n",
       "      <th>site_id</th>\n",
       "      <th>daily_flow</th>\n",
       "      <th>normalized_daily_flow</th>\n",
       "    </tr>\n",
       "  </thead>\n",
       "  <tbody>\n",
       "    <tr>\n",
       "      <th>0</th>\n",
       "      <td>2013</td>\n",
       "      <td>1</td>\n",
       "      <td>01200000</td>\n",
       "      <td>408.0</td>\n",
       "      <td>0.766075</td>\n",
       "    </tr>\n",
       "    <tr>\n",
       "      <th>1</th>\n",
       "      <td>2013</td>\n",
       "      <td>2</td>\n",
       "      <td>01200000</td>\n",
       "      <td>376.0</td>\n",
       "      <td>0.705991</td>\n",
       "    </tr>\n",
       "    <tr>\n",
       "      <th>2</th>\n",
       "      <td>2013</td>\n",
       "      <td>3</td>\n",
       "      <td>01200000</td>\n",
       "      <td>345.0</td>\n",
       "      <td>0.647784</td>\n",
       "    </tr>\n",
       "    <tr>\n",
       "      <th>3</th>\n",
       "      <td>2013</td>\n",
       "      <td>4</td>\n",
       "      <td>01200000</td>\n",
       "      <td>338.0</td>\n",
       "      <td>0.634641</td>\n",
       "    </tr>\n",
       "    <tr>\n",
       "      <th>4</th>\n",
       "      <td>2013</td>\n",
       "      <td>5</td>\n",
       "      <td>01200000</td>\n",
       "      <td>331.0</td>\n",
       "      <td>0.621497</td>\n",
       "    </tr>\n",
       "    <tr>\n",
       "      <th>...</th>\n",
       "      <td>...</td>\n",
       "      <td>...</td>\n",
       "      <td>...</td>\n",
       "      <td>...</td>\n",
       "      <td>...</td>\n",
       "    </tr>\n",
       "    <tr>\n",
       "      <th>557339</th>\n",
       "      <td>2023</td>\n",
       "      <td>361</td>\n",
       "      <td>04280450</td>\n",
       "      <td>543.0</td>\n",
       "      <td>1.246469</td>\n",
       "    </tr>\n",
       "    <tr>\n",
       "      <th>557340</th>\n",
       "      <td>2023</td>\n",
       "      <td>362</td>\n",
       "      <td>04280450</td>\n",
       "      <td>550.0</td>\n",
       "      <td>1.262538</td>\n",
       "    </tr>\n",
       "    <tr>\n",
       "      <th>557341</th>\n",
       "      <td>2023</td>\n",
       "      <td>363</td>\n",
       "      <td>04280450</td>\n",
       "      <td>508.0</td>\n",
       "      <td>1.166126</td>\n",
       "    </tr>\n",
       "    <tr>\n",
       "      <th>557342</th>\n",
       "      <td>2023</td>\n",
       "      <td>364</td>\n",
       "      <td>04280450</td>\n",
       "      <td>640.0</td>\n",
       "      <td>1.469135</td>\n",
       "    </tr>\n",
       "    <tr>\n",
       "      <th>557343</th>\n",
       "      <td>2023</td>\n",
       "      <td>365</td>\n",
       "      <td>04280450</td>\n",
       "      <td>578.0</td>\n",
       "      <td>1.326812</td>\n",
       "    </tr>\n",
       "  </tbody>\n",
       "</table>\n",
       "<p>557344 rows × 5 columns</p>\n",
       "</div>"
      ],
      "text/plain": [
       "        year  yday   site_id  daily_flow  normalized_daily_flow\n",
       "0       2013     1  01200000       408.0               0.766075\n",
       "1       2013     2  01200000       376.0               0.705991\n",
       "2       2013     3  01200000       345.0               0.647784\n",
       "3       2013     4  01200000       338.0               0.634641\n",
       "4       2013     5  01200000       331.0               0.621497\n",
       "...      ...   ...       ...         ...                    ...\n",
       "557339  2023   361  04280450       543.0               1.246469\n",
       "557340  2023   362  04280450       550.0               1.262538\n",
       "557341  2023   363  04280450       508.0               1.166126\n",
       "557342  2023   364  04280450       640.0               1.469135\n",
       "557343  2023   365  04280450       578.0               1.326812\n",
       "\n",
       "[557344 rows x 5 columns]"
      ]
     },
     "execution_count": 61,
     "metadata": {},
     "output_type": "execute_result"
    }
   ],
   "source": [
    "# Expand the flow dataset (results_df)\n",
    "\n",
    "# Generate year and yday values, correctly handling leap years\n",
    "date_list = []\n",
    "for year in range(2013, 2024):  # 2013 to 2023\n",
    "    if year in [2016, 2020]:  # Leap years\n",
    "        days = list(range(1, 367))  # 366 days\n",
    "    else:\n",
    "        days = list(range(1, 366))  # 365 days\n",
    "    date_list.extend([(year, day) for day in days])\n",
    "\n",
    "# Create DataFrame with correct leap year handling\n",
    "dates = pd.DataFrame(date_list, columns=['year', 'yday'])\n",
    "\n",
    "# Validate total number of days\n",
    "expected_length = sum(366 if year in [2016, 2020] else 365 for year in range(2013, 2024))  # 4018\n",
    "actual_length = len(dates)\n",
    "assert actual_length == expected_length, f\"Expected {expected_length} days, got {actual_length}\"\n",
    "\n",
    "# Expand results_df while correctly matching leap years\n",
    "expanded_data = []\n",
    "\n",
    "for _, row in results_df.iterrows():\n",
    "    station_id = str(row['STAID']).zfill(8)  # Preserve leading zeros\n",
    "    daily_flow_values = row['daily_flow'][:expected_length]  # Trim to 4018 days if necessary\n",
    "    normalized_flow_values = row['normalized_daily_flow'][:expected_length]\n",
    "    \n",
    "    # Append structured records\n",
    "    expanded_data.extend(zip(\n",
    "        dates['year'], dates['yday'], [station_id] * expected_length, daily_flow_values, normalized_flow_values\n",
    "    ))\n",
    "\n",
    "# Convert list to DataFrame\n",
    "expanded_results_df = pd.DataFrame(expanded_data, columns=['year', 'yday', 'site_id', 'daily_flow', 'normalized_daily_flow'])\n",
    "expanded_results_df\n"
   ]
  },
  {
   "cell_type": "code",
   "execution_count": 67,
   "metadata": {},
   "outputs": [
    {
     "name": "stdout",
     "output_type": "stream",
     "text": [
      "Unique site_id format in filtered_df1:\n",
      "['01200000' '01302020' '01312000' '01315000' '01315500' '01318500'\n",
      " '01321000' '01325000' '01327750' '01329490' '01330000' '01331095'\n",
      " '01334500' '01335754' '01336000' '01346000' '01347000' '01348000'\n",
      " '01349000' '01349150' '01349700' '01349705' '01349950' '01350035'\n",
      " '01350101' '01350120' '01350180' '01350355' '01351500' '01357500'\n",
      " '01358000' '01360640' '01362500' '01364500' '01365500' '01367500'\n",
      " '01372500' '01374505' '01374531' '01374559' '01374581' '01374598'\n",
      " '01374701' '01374821' '01374890' '01374901' '01374930' '01374941'\n",
      " '01375000' '01376800' '01387400' '01387420' '01387450' '01413088'\n",
      " '01413398' '01417000' '01417500' '01420500' '01421000' '01421610'\n",
      " '01421900' '01425000' '01426500' '01427500' '01428000' '01432900'\n",
      " '01433500' '01434498' '01436000' '01436690' '01437500' '01500000'\n",
      " '01500500' '01503000' '01505000' '01507000' '01509000' '01512500'\n",
      " '01513831' '01520000' '01520500' '01521500' '01523500' '01524500'\n",
      " '01525500' '01526500' '01529500' '01529950' '03011020' '03014500'\n",
      " '04213500' '04214500' '04215000' '04215500' '04217000' '04218000'\n",
      " '04218518' '04223000' '04227000' '04227500' '04227995' '04228500'\n",
      " '04229500' '04230380' '04230500' '04231000' '04231600' '04232034'\n",
      " '04232050' '04232482' '04234000' '04235250' '04237500' '04239000'\n",
      " '04240010' '04240100' '04240120' '04240180' '04240300' '04242500'\n",
      " '04243500' '04247000' '04249000' '04250200' '04250750' '04252500'\n",
      " '04258000' '04260500' '04262000' '04262500' '04263000' '04266500'\n",
      " '04267500' '04268000' '04269000' '04270000' '04270200' '04271500'\n",
      " '04271815' '04273500' '04275000' '04275500' '04276500' '04279000'\n",
      " '04280450']\n",
      "\n",
      "Unique STAID format in results_df:\n",
      "['01200000' '01302020' '01312000' '01315000' '01315500' '01318500'\n",
      " '01321000' '01325000' '01327750' '01329490' '01330000' '01331095'\n",
      " '01334500' '01335754' '01336000' '01346000' '01347000' '01348000'\n",
      " '01349000' '01349150' '01349700' '01349705' '01349950' '01350035'\n",
      " '01350101' '01350120' '01350180' '01350355' '01351500' '01357500'\n",
      " '01358000' '01360640' '01362500' '01364500' '01365500' '01367500'\n",
      " '01372500' '01374505' '01374531' '01374559' '01374581' '01374598'\n",
      " '01374701' '01374821' '01374890' '01374901' '01374930' '01374941'\n",
      " '01375000' '01376800' '01387400' '01387420' '01387450' '01413088'\n",
      " '01413398' '01417000' '01417500' '01420500' '01421000' '01421610'\n",
      " '01421900' '01425000' '01426500' '01427500' '01428000' '01432900'\n",
      " '01433500' '01434498' '01436000' '01436690' '01437500' '01500000'\n",
      " '01500500' '01503000' '01505000' '01507000' '01509000' '01512500'\n",
      " '01513831' '01520000' '01520500' '01521500' '01523500' '01524500'\n",
      " '01525500' '01526500' '01529500' '01529950' '03011020' '03014500'\n",
      " '04213500' '04214500' '04215000' '04215500' '04217000' '04218000'\n",
      " '04218518' '04223000' '04227000' '04227500' '04227995' '04228500'\n",
      " '04229500' '04230380' '04230500' '04231000' '04231600' '04232034'\n",
      " '04232050' '04232482' '04234000' '04235250' '04237500' '04239000'\n",
      " '04240010' '04240100' '04240120' '04240180' '04240300' '04242500'\n",
      " '04243500' '04247000' '04249000' '04250200' '04250750' '04252500'\n",
      " '04258000' '04260500' '04262000' '04262500' '04263000' '04266500'\n",
      " '04267500' '04268000' '04269000' '04270000' '04270200' '04271500'\n",
      " '04271815' '04273500' '04275000' '04275500' '04276500' '04279000'\n",
      " '04280450']\n"
     ]
    }
   ],
   "source": [
    "print(\"Unique site_id format in filtered_df1:\")\n",
    "print(filtered_df1['site_id'].astype(str).str[:10].unique())\n",
    "\n",
    "print(\"\\nUnique STAID format in results_df:\")\n",
    "print(results_df['STAID'].astype(str).str[:10].unique())\n"
   ]
  },
  {
   "cell_type": "code",
   "execution_count": 56,
   "metadata": {},
   "outputs": [
    {
     "data": {
      "text/html": [
       "<div>\n",
       "<style scoped>\n",
       "    .dataframe tbody tr th:only-of-type {\n",
       "        vertical-align: middle;\n",
       "    }\n",
       "\n",
       "    .dataframe tbody tr th {\n",
       "        vertical-align: top;\n",
       "    }\n",
       "\n",
       "    .dataframe thead th {\n",
       "        text-align: right;\n",
       "    }\n",
       "</style>\n",
       "<table border=\"1\" class=\"dataframe\">\n",
       "  <thead>\n",
       "    <tr style=\"text-align: right;\">\n",
       "      <th></th>\n",
       "      <th>year</th>\n",
       "      <th>yday</th>\n",
       "      <th>prcp (mm/day)</th>\n",
       "      <th>lat</th>\n",
       "      <th>lon</th>\n",
       "      <th>site_id</th>\n",
       "      <th>daily_flow</th>\n",
       "      <th>normalized_daily_flow</th>\n",
       "    </tr>\n",
       "  </thead>\n",
       "  <tbody>\n",
       "    <tr>\n",
       "      <th>0</th>\n",
       "      <td>2013.0</td>\n",
       "      <td>1.0</td>\n",
       "      <td>0.00</td>\n",
       "      <td>41.658983</td>\n",
       "      <td>-73.528458</td>\n",
       "      <td>01200000</td>\n",
       "      <td>408.0</td>\n",
       "      <td>0.766075</td>\n",
       "    </tr>\n",
       "    <tr>\n",
       "      <th>1</th>\n",
       "      <td>2013.0</td>\n",
       "      <td>2.0</td>\n",
       "      <td>0.00</td>\n",
       "      <td>41.658983</td>\n",
       "      <td>-73.528458</td>\n",
       "      <td>01200000</td>\n",
       "      <td>376.0</td>\n",
       "      <td>0.705991</td>\n",
       "    </tr>\n",
       "    <tr>\n",
       "      <th>2</th>\n",
       "      <td>2013.0</td>\n",
       "      <td>3.0</td>\n",
       "      <td>0.00</td>\n",
       "      <td>41.658983</td>\n",
       "      <td>-73.528458</td>\n",
       "      <td>01200000</td>\n",
       "      <td>345.0</td>\n",
       "      <td>0.647784</td>\n",
       "    </tr>\n",
       "    <tr>\n",
       "      <th>3</th>\n",
       "      <td>2013.0</td>\n",
       "      <td>4.0</td>\n",
       "      <td>0.00</td>\n",
       "      <td>41.658983</td>\n",
       "      <td>-73.528458</td>\n",
       "      <td>01200000</td>\n",
       "      <td>338.0</td>\n",
       "      <td>0.634641</td>\n",
       "    </tr>\n",
       "    <tr>\n",
       "      <th>4</th>\n",
       "      <td>2013.0</td>\n",
       "      <td>5.0</td>\n",
       "      <td>0.00</td>\n",
       "      <td>41.658983</td>\n",
       "      <td>-73.528458</td>\n",
       "      <td>01200000</td>\n",
       "      <td>331.0</td>\n",
       "      <td>0.621497</td>\n",
       "    </tr>\n",
       "    <tr>\n",
       "      <th>...</th>\n",
       "      <td>...</td>\n",
       "      <td>...</td>\n",
       "      <td>...</td>\n",
       "      <td>...</td>\n",
       "      <td>...</td>\n",
       "      <td>...</td>\n",
       "      <td>...</td>\n",
       "      <td>...</td>\n",
       "    </tr>\n",
       "    <tr>\n",
       "      <th>3505090</th>\n",
       "      <td>2023.0</td>\n",
       "      <td>361.0</td>\n",
       "      <td>6.19</td>\n",
       "      <td>43.463959</td>\n",
       "      <td>-73.284276</td>\n",
       "      <td>04280450</td>\n",
       "      <td>541.0</td>\n",
       "      <td>1.241878</td>\n",
       "    </tr>\n",
       "    <tr>\n",
       "      <th>3505091</th>\n",
       "      <td>2023.0</td>\n",
       "      <td>362.0</td>\n",
       "      <td>2.43</td>\n",
       "      <td>43.463959</td>\n",
       "      <td>-73.284276</td>\n",
       "      <td>04280450</td>\n",
       "      <td>495.0</td>\n",
       "      <td>1.136284</td>\n",
       "    </tr>\n",
       "    <tr>\n",
       "      <th>3505092</th>\n",
       "      <td>2023.0</td>\n",
       "      <td>363.0</td>\n",
       "      <td>5.67</td>\n",
       "      <td>43.463959</td>\n",
       "      <td>-73.284276</td>\n",
       "      <td>04280450</td>\n",
       "      <td>543.0</td>\n",
       "      <td>1.246469</td>\n",
       "    </tr>\n",
       "    <tr>\n",
       "      <th>3505093</th>\n",
       "      <td>2023.0</td>\n",
       "      <td>364.0</td>\n",
       "      <td>1.37</td>\n",
       "      <td>43.463959</td>\n",
       "      <td>-73.284276</td>\n",
       "      <td>04280450</td>\n",
       "      <td>550.0</td>\n",
       "      <td>1.262538</td>\n",
       "    </tr>\n",
       "    <tr>\n",
       "      <th>3505094</th>\n",
       "      <td>2023.0</td>\n",
       "      <td>365.0</td>\n",
       "      <td>0.00</td>\n",
       "      <td>43.463959</td>\n",
       "      <td>-73.284276</td>\n",
       "      <td>04280450</td>\n",
       "      <td>508.0</td>\n",
       "      <td>1.166126</td>\n",
       "    </tr>\n",
       "  </tbody>\n",
       "</table>\n",
       "<p>3505095 rows × 8 columns</p>\n",
       "</div>"
      ],
      "text/plain": [
       "           year   yday  prcp (mm/day)        lat        lon   site_id  \\\n",
       "0        2013.0    1.0           0.00  41.658983 -73.528458  01200000   \n",
       "1        2013.0    2.0           0.00  41.658983 -73.528458  01200000   \n",
       "2        2013.0    3.0           0.00  41.658983 -73.528458  01200000   \n",
       "3        2013.0    4.0           0.00  41.658983 -73.528458  01200000   \n",
       "4        2013.0    5.0           0.00  41.658983 -73.528458  01200000   \n",
       "...         ...    ...            ...        ...        ...       ...   \n",
       "3505090  2023.0  361.0           6.19  43.463959 -73.284276  04280450   \n",
       "3505091  2023.0  362.0           2.43  43.463959 -73.284276  04280450   \n",
       "3505092  2023.0  363.0           5.67  43.463959 -73.284276  04280450   \n",
       "3505093  2023.0  364.0           1.37  43.463959 -73.284276  04280450   \n",
       "3505094  2023.0  365.0           0.00  43.463959 -73.284276  04280450   \n",
       "\n",
       "         daily_flow  normalized_daily_flow  \n",
       "0             408.0               0.766075  \n",
       "1             376.0               0.705991  \n",
       "2             345.0               0.647784  \n",
       "3             338.0               0.634641  \n",
       "4             331.0               0.621497  \n",
       "...             ...                    ...  \n",
       "3505090       541.0               1.241878  \n",
       "3505091       495.0               1.136284  \n",
       "3505092       543.0               1.246469  \n",
       "3505093       550.0               1.262538  \n",
       "3505094       508.0               1.166126  \n",
       "\n",
       "[3505095 rows x 8 columns]"
      ]
     },
     "execution_count": 56,
     "metadata": {},
     "output_type": "execute_result"
    }
   ],
   "source": [
    "\n",
    "# Generate year and yday values (ignoring leap years)\n",
    "years = np.repeat(np.arange(2013, 2024), 365)  # Repeat each year 365 times\n",
    "ydays = np.tile(np.arange(1, 366), 11)  # Repeat 1-365 for 11 years\n",
    "\n",
    "# Create DataFrame without dates\n",
    "dates = pd.DataFrame({'year': years, 'yday': ydays})\n",
    "\n",
    "# Ensure only 4015 entries (ignoring leap days)\n",
    "dates = dates.iloc[:4015]\n",
    "\n",
    "# Expand results_df without handling leap years\n",
    "expanded_data = []\n",
    "\n",
    "for _, row in results_df.iterrows():\n",
    "    station_id = str(row['STAID']).zfill(8)  # Ensure leading zeros remain (string format)\n",
    "    daily_flow_values = row['daily_flow'][:4015]  # Trim to 4015 days if necessary\n",
    "    normalized_flow_values = row['normalized_daily_flow'][:4015]\n",
    "    \n",
    "    # Append structured records\n",
    "    expanded_data.extend(zip(\n",
    "        dates['year'], dates['yday'], [station_id] * len(dates), daily_flow_values, normalized_flow_values\n",
    "    ))\n",
    "\n",
    "# Convert list to DataFrame\n",
    "expanded_results_df = pd.DataFrame(expanded_data, columns=['year', 'yday', 'site_id', 'daily_flow', 'normalized_daily_flow'])\n",
    "\n",
    "# Ensure site_id in filtered_df is also treated as a string\n",
    "filtered_df['site_id'] = filtered_df['site_id'].astype(str).str.zfill(8)\n",
    "\n",
    "# Merge with filtered_df to align formats\n",
    "final_df = filtered_df.merge(expanded_results_df, on=['year', 'yday', 'site_id'], how='left')\n",
    "final_df\n"
   ]
  },
  {
   "cell_type": "code",
   "execution_count": 68,
   "metadata": {},
   "outputs": [
    {
     "data": {
      "text/html": [
       "<div>\n",
       "<style scoped>\n",
       "    .dataframe tbody tr th:only-of-type {\n",
       "        vertical-align: middle;\n",
       "    }\n",
       "\n",
       "    .dataframe tbody tr th {\n",
       "        vertical-align: top;\n",
       "    }\n",
       "\n",
       "    .dataframe thead th {\n",
       "        text-align: right;\n",
       "    }\n",
       "</style>\n",
       "<table border=\"1\" class=\"dataframe\">\n",
       "  <thead>\n",
       "    <tr style=\"text-align: right;\">\n",
       "      <th></th>\n",
       "      <th>year</th>\n",
       "      <th>yday</th>\n",
       "      <th>prcp (mm/day)</th>\n",
       "      <th>lat</th>\n",
       "      <th>lon</th>\n",
       "      <th>site_id</th>\n",
       "      <th>daily_flow</th>\n",
       "      <th>normalized_daily_flow</th>\n",
       "    </tr>\n",
       "  </thead>\n",
       "  <tbody>\n",
       "    <tr>\n",
       "      <th>0</th>\n",
       "      <td>2013.0</td>\n",
       "      <td>1.0</td>\n",
       "      <td>0.00</td>\n",
       "      <td>41.658983</td>\n",
       "      <td>-73.528458</td>\n",
       "      <td>01200000</td>\n",
       "      <td>408.0</td>\n",
       "      <td>0.766075</td>\n",
       "    </tr>\n",
       "    <tr>\n",
       "      <th>1</th>\n",
       "      <td>2013.0</td>\n",
       "      <td>2.0</td>\n",
       "      <td>0.00</td>\n",
       "      <td>41.658983</td>\n",
       "      <td>-73.528458</td>\n",
       "      <td>01200000</td>\n",
       "      <td>376.0</td>\n",
       "      <td>0.705991</td>\n",
       "    </tr>\n",
       "    <tr>\n",
       "      <th>2</th>\n",
       "      <td>2013.0</td>\n",
       "      <td>3.0</td>\n",
       "      <td>0.00</td>\n",
       "      <td>41.658983</td>\n",
       "      <td>-73.528458</td>\n",
       "      <td>01200000</td>\n",
       "      <td>345.0</td>\n",
       "      <td>0.647784</td>\n",
       "    </tr>\n",
       "    <tr>\n",
       "      <th>3</th>\n",
       "      <td>2013.0</td>\n",
       "      <td>4.0</td>\n",
       "      <td>0.00</td>\n",
       "      <td>41.658983</td>\n",
       "      <td>-73.528458</td>\n",
       "      <td>01200000</td>\n",
       "      <td>338.0</td>\n",
       "      <td>0.634641</td>\n",
       "    </tr>\n",
       "    <tr>\n",
       "      <th>4</th>\n",
       "      <td>2013.0</td>\n",
       "      <td>5.0</td>\n",
       "      <td>0.00</td>\n",
       "      <td>41.658983</td>\n",
       "      <td>-73.528458</td>\n",
       "      <td>01200000</td>\n",
       "      <td>331.0</td>\n",
       "      <td>0.621497</td>\n",
       "    </tr>\n",
       "    <tr>\n",
       "      <th>...</th>\n",
       "      <td>...</td>\n",
       "      <td>...</td>\n",
       "      <td>...</td>\n",
       "      <td>...</td>\n",
       "      <td>...</td>\n",
       "      <td>...</td>\n",
       "      <td>...</td>\n",
       "      <td>...</td>\n",
       "    </tr>\n",
       "    <tr>\n",
       "      <th>2316650</th>\n",
       "      <td>2023.0</td>\n",
       "      <td>361.0</td>\n",
       "      <td>6.19</td>\n",
       "      <td>43.463959</td>\n",
       "      <td>-73.284276</td>\n",
       "      <td>04280450</td>\n",
       "      <td>541.0</td>\n",
       "      <td>1.241878</td>\n",
       "    </tr>\n",
       "    <tr>\n",
       "      <th>2316651</th>\n",
       "      <td>2023.0</td>\n",
       "      <td>362.0</td>\n",
       "      <td>2.43</td>\n",
       "      <td>43.463959</td>\n",
       "      <td>-73.284276</td>\n",
       "      <td>04280450</td>\n",
       "      <td>495.0</td>\n",
       "      <td>1.136284</td>\n",
       "    </tr>\n",
       "    <tr>\n",
       "      <th>2316652</th>\n",
       "      <td>2023.0</td>\n",
       "      <td>363.0</td>\n",
       "      <td>5.67</td>\n",
       "      <td>43.463959</td>\n",
       "      <td>-73.284276</td>\n",
       "      <td>04280450</td>\n",
       "      <td>543.0</td>\n",
       "      <td>1.246469</td>\n",
       "    </tr>\n",
       "    <tr>\n",
       "      <th>2316653</th>\n",
       "      <td>2023.0</td>\n",
       "      <td>364.0</td>\n",
       "      <td>1.37</td>\n",
       "      <td>43.463959</td>\n",
       "      <td>-73.284276</td>\n",
       "      <td>04280450</td>\n",
       "      <td>550.0</td>\n",
       "      <td>1.262538</td>\n",
       "    </tr>\n",
       "    <tr>\n",
       "      <th>2316654</th>\n",
       "      <td>2023.0</td>\n",
       "      <td>365.0</td>\n",
       "      <td>0.00</td>\n",
       "      <td>43.463959</td>\n",
       "      <td>-73.284276</td>\n",
       "      <td>04280450</td>\n",
       "      <td>508.0</td>\n",
       "      <td>1.166126</td>\n",
       "    </tr>\n",
       "  </tbody>\n",
       "</table>\n",
       "<p>2316655 rows × 8 columns</p>\n",
       "</div>"
      ],
      "text/plain": [
       "           year   yday  prcp (mm/day)        lat        lon   site_id  \\\n",
       "0        2013.0    1.0           0.00  41.658983 -73.528458  01200000   \n",
       "1        2013.0    2.0           0.00  41.658983 -73.528458  01200000   \n",
       "2        2013.0    3.0           0.00  41.658983 -73.528458  01200000   \n",
       "3        2013.0    4.0           0.00  41.658983 -73.528458  01200000   \n",
       "4        2013.0    5.0           0.00  41.658983 -73.528458  01200000   \n",
       "...         ...    ...            ...        ...        ...       ...   \n",
       "2316650  2023.0  361.0           6.19  43.463959 -73.284276  04280450   \n",
       "2316651  2023.0  362.0           2.43  43.463959 -73.284276  04280450   \n",
       "2316652  2023.0  363.0           5.67  43.463959 -73.284276  04280450   \n",
       "2316653  2023.0  364.0           1.37  43.463959 -73.284276  04280450   \n",
       "2316654  2023.0  365.0           0.00  43.463959 -73.284276  04280450   \n",
       "\n",
       "         daily_flow  normalized_daily_flow  \n",
       "0             408.0               0.766075  \n",
       "1             376.0               0.705991  \n",
       "2             345.0               0.647784  \n",
       "3             338.0               0.634641  \n",
       "4             331.0               0.621497  \n",
       "...             ...                    ...  \n",
       "2316650       541.0               1.241878  \n",
       "2316651       495.0               1.136284  \n",
       "2316652       543.0               1.246469  \n",
       "2316653       550.0               1.262538  \n",
       "2316654       508.0               1.166126  \n",
       "\n",
       "[2316655 rows x 8 columns]"
      ]
     },
     "execution_count": 68,
     "metadata": {},
     "output_type": "execute_result"
    }
   ],
   "source": [
    "# Generate year and yday values (ignoring leap years)\n",
    "years = np.repeat(np.arange(2013, 2024), 365)  # Repeat each year 365 times\n",
    "ydays = np.tile(np.arange(1, 366), 11)  # Repeat 1-365 for 11 years\n",
    "\n",
    "# Create DataFrame without dates\n",
    "dates = pd.DataFrame({'year': years, 'yday': ydays})\n",
    "\n",
    "# Ensure only 4015 entries (ignoring leap days)\n",
    "dates = dates.iloc[:4015]\n",
    "\n",
    "# Expand results_df without handling leap years\n",
    "expanded_data = []\n",
    "\n",
    "for _, row in results_df.iterrows():\n",
    "    station_id = str(row['STAID']).zfill(8)  # Ensure leading zeros remain (string format)\n",
    "    daily_flow_values = row['daily_flow'][:4015]  # Trim to 4015 days if necessary\n",
    "    normalized_flow_values = row['normalized_daily_flow'][:4015]\n",
    "    \n",
    "    # Append structured records\n",
    "    expanded_data.extend(zip(\n",
    "        dates['year'], dates['yday'], [station_id] * len(dates), daily_flow_values, normalized_flow_values\n",
    "    ))\n",
    "\n",
    "# Convert list to DataFrame\n",
    "expanded_results_df = pd.DataFrame(expanded_data, columns=['year', 'yday', 'site_id', 'daily_flow', 'normalized_daily_flow'])\n",
    "\n",
    "# Ensure site_id in filtered_df1 is also treated as a string\n",
    "filtered_df1['site_id'] = filtered_df1['site_id'].astype(str).str.zfill(8)\n",
    "\n",
    "# Merge with filtered_df1 to align formats\n",
    "final_df = filtered_df1.merge(expanded_results_df, on=['year', 'yday', 'site_id'], how='left')\n",
    "final_df"
   ]
  },
  {
   "cell_type": "code",
   "execution_count": 34,
   "metadata": {},
   "outputs": [],
   "source": [
    "# Step 1: Initialize an empty list to store results\n",
    "expanded_rows = []\n",
    "\n",
    "# Function to determine if a year is a leap year\n",
    "def is_leap_year(year):\n",
    "    return (year % 4 == 0 and year % 100 != 0) or (year % 400 == 0)\n",
    "\n",
    "# Function to assign correct year and yday values\n",
    "def assign_years(start_year, total_days):\n",
    "    current_year = start_year\n",
    "    current_yday = 1\n",
    "    year_yday_pairs = []\n",
    "\n",
    "    for _ in range(total_days):\n",
    "        year_yday_pairs.append((current_year, current_yday))\n",
    "        current_yday += 1\n",
    "        # Check if we need to reset yday and increment year\n",
    "        if (is_leap_year(current_year) and current_yday > 366) or (not is_leap_year(current_year) and current_yday > 365):\n",
    "            current_year += 1\n",
    "            current_yday = 1  # Reset day counter\n",
    "\n",
    "    return year_yday_pairs\n",
    "\n",
    "# Step 2: Process each row\n",
    "for _, row in results_df.iterrows():\n",
    "    staid = row[\"STAID\"]\n",
    "    daily_flow_list = row[\"daily_flow\"]\n",
    "    normalized_flow_list = row[\"normalized_daily_flow\"]\n",
    "    start_year = row.get(\"start_year\", 2013)  \n",
    "\n",
    "    # Ensure lists are valid\n",
    "    if isinstance(daily_flow_list, list) and isinstance(normalized_flow_list, list):\n",
    "        total_days = len(daily_flow_list)  # Number of daily values\n",
    "        year_yday_list = assign_years(start_year, total_days)  # Get correct year/yday pairs\n",
    "\n",
    "        # Append processed data\n",
    "        for (year, yday), flow, norm_flow in zip(year_yday_list, daily_flow_list, normalized_flow_list):\n",
    "            expanded_rows.append([staid, year, yday, flow, norm_flow])\n",
    "\n",
    "# Step 3: Convert list into a DataFrame\n",
    "flow_long = pd.DataFrame(expanded_rows, columns=[\"STAID\", \"Year\", \"yday\", \"daily_flow\", \"normalized_daily_flow\"])\n"
   ]
  },
  {
   "cell_type": "code",
   "execution_count": null,
   "metadata": {},
   "outputs": [
    {
     "name": "stdout",
     "output_type": "stream",
     "text": [
      "Processing STAID 04280450, start_year 2013, 4439 days\n"
     ]
    }
   ],
   "source": [
    "# Step 1: Initialize an empty list to store results\n",
    "expanded_rows = []\n",
    "\n",
    "# Step 2: Process each row individually (avoiding large memory usage)\n",
    "for _, row in results_df.iterrows():\n",
    "    staid = row[\"STAID\"]\n",
    "    daily_flow_list = row[\"daily_flow\"]\n",
    "    normalized_flow_list = row[\"normalized_daily_flow\"]\n",
    "    \n",
    "    # Ensure these are lists before proceeding\n",
    "    if isinstance(daily_flow_list, list) and isinstance(normalized_flow_list, list):\n",
    "        for day, (flow, norm_flow) in enumerate(zip(daily_flow_list, normalized_flow_list), start=1):\n",
    "            expanded_rows.append([staid, day, flow, norm_flow])\n",
    "\n",
    "# Step 3: Convert list into a DataFrame (this avoids kernel crashes)\n",
    "flow_long = pd.DataFrame(expanded_rows, columns=[\"STAID\", \"yday\", \"daily_flow\", \"normalized_daily_flow\"])"
   ]
  },
  {
   "cell_type": "code",
   "execution_count": 38,
   "metadata": {},
   "outputs": [
    {
     "name": "stdout",
     "output_type": "stream",
     "text": [
      "           STAID  yday  daily_flow  normalized_daily_flow\n",
      "610985  04280450  4435   -999999.0           -2295.520563\n",
      "610986  04280450  4436   -999999.0           -2295.520563\n",
      "610987  04280450  4437   -999999.0           -2295.520563\n",
      "610988  04280450  4438   -999999.0           -2295.520563\n",
      "610989  04280450  4439   -999999.0           -2295.520563\n"
     ]
    }
   ],
   "source": [
    "print(flow_long.tail())"
   ]
  },
  {
   "cell_type": "code",
   "execution_count": 43,
   "metadata": {},
   "outputs": [
    {
     "name": "stdout",
     "output_type": "stream",
     "text": [
      "Empty DataFrame\n",
      "Columns: [STAID, yday, daily_flow, normalized_daily_flow, year, prcp (mm/day), lat, lon, flow_precip_ratio]\n",
      "Index: []\n"
     ]
    }
   ],
   "source": [
    "# Step 4: Convert to numeric values\n",
    "flow_long[\"daily_flow\"] = pd.to_numeric(flow_long[\"daily_flow\"], errors=\"coerce\")\n",
    "flow_long[\"normalized_daily_flow\"] = pd.to_numeric(flow_long[\"normalized_daily_flow\"], errors=\"coerce\")\n",
    "\n",
    "# Step 6: Merge flow data with precipitation data\n",
    "#rename site_id column to STAID\n",
    "# Convert STAID and yday to string in both DataFrames to ensure compatibility\n",
    "flow_long[\"STAID\"] = flow_long[\"STAID\"].astype(str)\n",
    "flow_long[\"yday\"] = flow_long[\"yday\"].astype(int)  # Ensure yday is integer\n",
    "\n",
    "filtered_df[\"STAID\"] = filtered_df[\"STAID\"].astype(str)\n",
    "filtered_df[\"yday\"] = filtered_df[\"yday\"].astype(int)  # Ensure yday is integer\n",
    "\n",
    "# Now perform the merge\n",
    "merged_df = pd.merge(flow_long, filtered_df, on=[\"STAID\", \"yday\"], how=\"inner\")\n",
    "#filtered_df.rename(columns={'site_id': 'STAID'}, inplace=True)\n",
    "#merged_df = pd.merge(flow_long, filtered_df, on=[\"STAID\", \"yday\"], how=\"inner\")\n",
    "\n",
    "# Step 7: Compute flow-to-precipitation ratio\n",
    "merged_df[\"flow_precip_ratio\"] = merged_df[\"daily_flow\"] / merged_df[\"prcp (mm/day)\"]\n",
    "merged_df.replace([np.inf, -np.inf], np.nan, inplace=True)  # Remove infinite values\n",
    "merged_df.fillna(0, inplace=True)  # Replace NaNs with 0 (if necessary)\n",
    "\n",
    "# Display first few rows\n",
    "print(merged_df.head())\n"
   ]
  },
  {
   "cell_type": "code",
   "execution_count": 47,
   "metadata": {},
   "outputs": [
    {
     "name": "stdout",
     "output_type": "stream",
     "text": [
      "[(2013, 1), (2013, 2), (2013, 3), (2013, 4), (2013, 5), (2013, 6), (2013, 7), (2013, 8), (2013, 9), (2013, 10)]\n"
     ]
    }
   ],
   "source": [
    "print(assign_years(2013, 10))  # Test function with sample data\n"
   ]
  },
  {
   "cell_type": "code",
   "execution_count": 44,
   "metadata": {},
   "outputs": [
    {
     "name": "stdout",
     "output_type": "stream",
     "text": [
      "(145, 3)\n",
      "      STAID                                         daily_flow  \\\n",
      "0  01200000  [408.0, 376.0, 345.0, 338.0, 331.0, 317.0, 307...   \n",
      "1  01302020  [44.7, 40.9, 39.2, 35.8, 33.9, 32.9, 31.7, 30....   \n",
      "2  01312000  [247.0, 225.0, 209.0, 204.0, 199.0, 192.0, 187...   \n",
      "3  01315000  [330.0, 330.0, 330.0, 329.0, 327.0, 327.0, 327...   \n",
      "4  01315500  [1140.0, 1030.0, 990.0, 1110.0, 1090.0, 1100.0...   \n",
      "\n",
      "                               normalized_daily_flow  \n",
      "0  [0.7660750426833356, 0.7059907256101329, 0.647...  \n",
      "1  [0.44001866387889743, 0.4026121555401992, 0.38...  \n",
      "2  [0.495765619677921, 0.4516083580062033, 0.4194...  \n",
      "3  [0.9777047758211832, 0.9777047758211832, 0.977...  \n",
      "4  [0.5537859772646568, 0.5003504882303478, 0.480...  \n"
     ]
    }
   ],
   "source": [
    "print(results_df.shape)\n",
    "print(results_df.head())"
   ]
  },
  {
   "cell_type": "code",
   "execution_count": 45,
   "metadata": {},
   "outputs": [
    {
     "name": "stdout",
     "output_type": "stream",
     "text": [
      "STAID                    object\n",
      "daily_flow               object\n",
      "normalized_daily_flow    object\n",
      "dtype: object\n",
      "STAID                                                             01200000\n",
      "daily_flow               [408.0, 376.0, 345.0, 338.0, 331.0, 317.0, 307...\n",
      "normalized_daily_flow    [0.7660750426833356, 0.7059907256101329, 0.647...\n",
      "Name: 0, dtype: object\n"
     ]
    }
   ],
   "source": [
    "print(results_df.dtypes)\n",
    "print(results_df.iloc[0])  # Check first row for issues\n"
   ]
  },
  {
   "cell_type": "code",
   "execution_count": null,
   "metadata": {},
   "outputs": [],
   "source": [
    "flow_long"
   ]
  },
  {
   "cell_type": "markdown",
   "metadata": {},
   "source": [
    "Find the ratio of flow to precip"
   ]
  },
  {
   "cell_type": "code",
   "execution_count": 69,
   "metadata": {},
   "outputs": [
    {
     "data": {
      "text/html": [
       "<div>\n",
       "<style scoped>\n",
       "    .dataframe tbody tr th:only-of-type {\n",
       "        vertical-align: middle;\n",
       "    }\n",
       "\n",
       "    .dataframe tbody tr th {\n",
       "        vertical-align: top;\n",
       "    }\n",
       "\n",
       "    .dataframe thead th {\n",
       "        text-align: right;\n",
       "    }\n",
       "</style>\n",
       "<table border=\"1\" class=\"dataframe\">\n",
       "  <thead>\n",
       "    <tr style=\"text-align: right;\">\n",
       "      <th></th>\n",
       "      <th>year</th>\n",
       "      <th>yday</th>\n",
       "      <th>prcp (mm/day)</th>\n",
       "      <th>lat</th>\n",
       "      <th>lon</th>\n",
       "      <th>site_id</th>\n",
       "      <th>daily_flow</th>\n",
       "      <th>normalized_daily_flow</th>\n",
       "      <th>flow_precip_ratio</th>\n",
       "    </tr>\n",
       "  </thead>\n",
       "  <tbody>\n",
       "    <tr>\n",
       "      <th>0</th>\n",
       "      <td>2013.0</td>\n",
       "      <td>1.0</td>\n",
       "      <td>NaN</td>\n",
       "      <td>41.658983</td>\n",
       "      <td>-73.528458</td>\n",
       "      <td>01200000</td>\n",
       "      <td>408.0</td>\n",
       "      <td>0.766075</td>\n",
       "      <td>0.000000</td>\n",
       "    </tr>\n",
       "    <tr>\n",
       "      <th>1</th>\n",
       "      <td>2013.0</td>\n",
       "      <td>2.0</td>\n",
       "      <td>NaN</td>\n",
       "      <td>41.658983</td>\n",
       "      <td>-73.528458</td>\n",
       "      <td>01200000</td>\n",
       "      <td>376.0</td>\n",
       "      <td>0.705991</td>\n",
       "      <td>0.000000</td>\n",
       "    </tr>\n",
       "    <tr>\n",
       "      <th>2</th>\n",
       "      <td>2013.0</td>\n",
       "      <td>3.0</td>\n",
       "      <td>NaN</td>\n",
       "      <td>41.658983</td>\n",
       "      <td>-73.528458</td>\n",
       "      <td>01200000</td>\n",
       "      <td>345.0</td>\n",
       "      <td>0.647784</td>\n",
       "      <td>0.000000</td>\n",
       "    </tr>\n",
       "    <tr>\n",
       "      <th>3</th>\n",
       "      <td>2013.0</td>\n",
       "      <td>4.0</td>\n",
       "      <td>NaN</td>\n",
       "      <td>41.658983</td>\n",
       "      <td>-73.528458</td>\n",
       "      <td>01200000</td>\n",
       "      <td>338.0</td>\n",
       "      <td>0.634641</td>\n",
       "      <td>0.000000</td>\n",
       "    </tr>\n",
       "    <tr>\n",
       "      <th>4</th>\n",
       "      <td>2013.0</td>\n",
       "      <td>5.0</td>\n",
       "      <td>NaN</td>\n",
       "      <td>41.658983</td>\n",
       "      <td>-73.528458</td>\n",
       "      <td>01200000</td>\n",
       "      <td>331.0</td>\n",
       "      <td>0.621497</td>\n",
       "      <td>0.000000</td>\n",
       "    </tr>\n",
       "    <tr>\n",
       "      <th>...</th>\n",
       "      <td>...</td>\n",
       "      <td>...</td>\n",
       "      <td>...</td>\n",
       "      <td>...</td>\n",
       "      <td>...</td>\n",
       "      <td>...</td>\n",
       "      <td>...</td>\n",
       "      <td>...</td>\n",
       "      <td>...</td>\n",
       "    </tr>\n",
       "    <tr>\n",
       "      <th>2316650</th>\n",
       "      <td>2023.0</td>\n",
       "      <td>361.0</td>\n",
       "      <td>6.19</td>\n",
       "      <td>43.463959</td>\n",
       "      <td>-73.284276</td>\n",
       "      <td>04280450</td>\n",
       "      <td>541.0</td>\n",
       "      <td>1.241878</td>\n",
       "      <td>0.200626</td>\n",
       "    </tr>\n",
       "    <tr>\n",
       "      <th>2316651</th>\n",
       "      <td>2023.0</td>\n",
       "      <td>362.0</td>\n",
       "      <td>2.43</td>\n",
       "      <td>43.463959</td>\n",
       "      <td>-73.284276</td>\n",
       "      <td>04280450</td>\n",
       "      <td>495.0</td>\n",
       "      <td>1.136284</td>\n",
       "      <td>0.467606</td>\n",
       "    </tr>\n",
       "    <tr>\n",
       "      <th>2316652</th>\n",
       "      <td>2023.0</td>\n",
       "      <td>363.0</td>\n",
       "      <td>5.67</td>\n",
       "      <td>43.463959</td>\n",
       "      <td>-73.284276</td>\n",
       "      <td>04280450</td>\n",
       "      <td>543.0</td>\n",
       "      <td>1.246469</td>\n",
       "      <td>0.219836</td>\n",
       "    </tr>\n",
       "    <tr>\n",
       "      <th>2316653</th>\n",
       "      <td>2023.0</td>\n",
       "      <td>364.0</td>\n",
       "      <td>1.37</td>\n",
       "      <td>43.463959</td>\n",
       "      <td>-73.284276</td>\n",
       "      <td>04280450</td>\n",
       "      <td>550.0</td>\n",
       "      <td>1.262538</td>\n",
       "      <td>0.921560</td>\n",
       "    </tr>\n",
       "    <tr>\n",
       "      <th>2316654</th>\n",
       "      <td>2023.0</td>\n",
       "      <td>365.0</td>\n",
       "      <td>NaN</td>\n",
       "      <td>43.463959</td>\n",
       "      <td>-73.284276</td>\n",
       "      <td>04280450</td>\n",
       "      <td>508.0</td>\n",
       "      <td>1.166126</td>\n",
       "      <td>0.000000</td>\n",
       "    </tr>\n",
       "  </tbody>\n",
       "</table>\n",
       "<p>2316655 rows × 9 columns</p>\n",
       "</div>"
      ],
      "text/plain": [
       "           year   yday  prcp (mm/day)        lat        lon   site_id  \\\n",
       "0        2013.0    1.0            NaN  41.658983 -73.528458  01200000   \n",
       "1        2013.0    2.0            NaN  41.658983 -73.528458  01200000   \n",
       "2        2013.0    3.0            NaN  41.658983 -73.528458  01200000   \n",
       "3        2013.0    4.0            NaN  41.658983 -73.528458  01200000   \n",
       "4        2013.0    5.0            NaN  41.658983 -73.528458  01200000   \n",
       "...         ...    ...            ...        ...        ...       ...   \n",
       "2316650  2023.0  361.0           6.19  43.463959 -73.284276  04280450   \n",
       "2316651  2023.0  362.0           2.43  43.463959 -73.284276  04280450   \n",
       "2316652  2023.0  363.0           5.67  43.463959 -73.284276  04280450   \n",
       "2316653  2023.0  364.0           1.37  43.463959 -73.284276  04280450   \n",
       "2316654  2023.0  365.0            NaN  43.463959 -73.284276  04280450   \n",
       "\n",
       "         daily_flow  normalized_daily_flow  flow_precip_ratio  \n",
       "0             408.0               0.766075           0.000000  \n",
       "1             376.0               0.705991           0.000000  \n",
       "2             345.0               0.647784           0.000000  \n",
       "3             338.0               0.634641           0.000000  \n",
       "4             331.0               0.621497           0.000000  \n",
       "...             ...                    ...                ...  \n",
       "2316650       541.0               1.241878           0.200626  \n",
       "2316651       495.0               1.136284           0.467606  \n",
       "2316652       543.0               1.246469           0.219836  \n",
       "2316653       550.0               1.262538           0.921560  \n",
       "2316654       508.0               1.166126           0.000000  \n",
       "\n",
       "[2316655 rows x 9 columns]"
      ]
     },
     "execution_count": 69,
     "metadata": {},
     "output_type": "execute_result"
    }
   ],
   "source": [
    "# Avoid division by zero by replacing 0 precipitation values with NaN (optional: could use a small value instead)\n",
    "final_df['prcp (mm/day)'] = final_df['prcp (mm/day)'].replace(0, np.nan)\n",
    "\n",
    "# Compute the ratio of normalized flow to precipitation\n",
    "final_df['flow_precip_ratio'] = final_df['normalized_daily_flow'] / final_df['prcp (mm/day)']\n",
    "\n",
    "# Fill NaN values with 0 (optional, depending on how you want to handle division by zero)\n",
    "final_df['flow_precip_ratio'] = final_df['flow_precip_ratio'].fillna(0)\n",
    "final_df"
   ]
  },
  {
   "cell_type": "code",
   "execution_count": 88,
   "metadata": {},
   "outputs": [
    {
     "data": {
      "image/png": "[encoded data removed]",
      "text/plain": [
       "<Figure size 1200x600 with 1 Axes>"
      ]
     },
     "metadata": {},
     "output_type": "display_data"
    }
   ],
   "source": [
    "# Create the time series plot\n",
    "plt.figure(figsize=(12, 6))\n",
    "plt.plot(daymet2['year'], daymet2['prcp (mm/day)'])\n",
    "plt.xlabel(\"Date\")\n",
    "plt.ylabel(\"Flow to Precipitation Ratio\")\n",
    "plt.title(\"Time Series of Flow to Precipitation Ratio\")\n",
    "plt.grid(True)\n",
    "plt.show()"
   ]
  },
  {
   "cell_type": "code",
   "execution_count": null,
   "metadata": {},
   "outputs": [],
   "source": []
  }
 ],
 "metadata": {
  "kernelspec": {
   "display_name": "base",
   "language": "python",
   "name": "python3"
  },
  "language_info": {
   "codemirror_mode": {
    "name": "ipython",
    "version": 3
   },
   "file_extension": ".py",
   "mimetype": "text/x-python",
   "name": "python",
   "nbconvert_exporter": "python",
   "pygments_lexer": "ipython3",
   "version": "3.12.2"
  }
 },
 "nbformat": 4,
 "nbformat_minor": 2
}
